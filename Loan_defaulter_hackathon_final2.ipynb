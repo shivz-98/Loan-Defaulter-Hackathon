{
  "cells": [
    {
      "cell_type": "code",
      "execution_count": 1,
      "id": "9f49c0b8",
      "metadata": {
        "id": "9f49c0b8"
      },
      "outputs": [],
      "source": [
        "import pandas as pd\n",
        "import numpy as np\n",
        "import matplotlib.pyplot as plt\n",
        "import seaborn as sns\n",
        "import warnings\n",
        "warnings.filterwarnings('ignore')\n"
      ]
    },
    {
      "cell_type": "code",
      "execution_count": 2,
      "id": "0880e5e5",
      "metadata": {
        "colab": {
          "base_uri": "https://localhost:8080/",
          "height": 421
        },
        "id": "0880e5e5",
        "outputId": "cc0269d1-c1b0-45a4-a3ec-6a3aec0d8e7f"
      },
      "outputs": [
        {
          "output_type": "execute_result",
          "data": {
            "text/plain": [
              "       ID  Asst_Reg GGGrade Experience       Validation  Yearly Income  \\\n",
              "0   95074    421802      II     >10yrs            Vfied      633600.00   \n",
              "1  134131   3964312      IV       7yrs  Source Verified       85483.20   \n",
              "2   92602   4247560     III       <1yr  Source Verified       79200.00   \n",
              "3   22591    197179     III       <1yr            Vfied       61600.00   \n",
              "4  125060   4646684       V       2yrs  Source Verified       68053.92   \n",
              "\n",
              "  Home Status  Unpaid 2 years  Already Defaulted       Designation  ...  \\\n",
              "0    MOR??AGE               0                  0   GLENDALE NISSAN  ...   \n",
              "1        REN?               0                  0  Business Teacher  ...   \n",
              "2        REN?               0                  0            driver  ...   \n",
              "3        REN?               0                  0          AvePoint  ...   \n",
              "4        REN?               0                  0       Lead Tester  ...   \n",
              "\n",
              "   File Status       State  Account Open  Total Unpaid CL  Duration  \\\n",
              "0   fully paid  California            17          58598.0   3 years   \n",
              "1        whole          NC            15          18924.0   5 years   \n",
              "2        whole     Florida             7          15604.0   5 years   \n",
              "3   fully paid   NewJersey             9          22410.0   3 years   \n",
              "4   fully paid          LA            10          36022.0   5 years   \n",
              "\n",
              "   Unpaid Amount               Reason  Claim Type  Due Fee  Loan/No Loan  \n",
              "0       31216.05  debt  consolidation           I      0.0           0.0  \n",
              "1       11660.49  debt  consolidation           I      0.0           0.0  \n",
              "2        5637.87      major  purchase           I      0.0           0.0  \n",
              "3       15607.17      major  purchase           I      0.0           1.0  \n",
              "4       27472.86  debt  consolidation           I      0.0           0.0  \n",
              "\n",
              "[5 rows x 30 columns]"
            ],
            "text/html": [
              "\n",
              "  <div id=\"df-24018de5-bf1c-4431-9d50-140abfafc95e\">\n",
              "    <div class=\"colab-df-container\">\n",
              "      <div>\n",
              "<style scoped>\n",
              "    .dataframe tbody tr th:only-of-type {\n",
              "        vertical-align: middle;\n",
              "    }\n",
              "\n",
              "    .dataframe tbody tr th {\n",
              "        vertical-align: top;\n",
              "    }\n",
              "\n",
              "    .dataframe thead th {\n",
              "        text-align: right;\n",
              "    }\n",
              "</style>\n",
              "<table border=\"1\" class=\"dataframe\">\n",
              "  <thead>\n",
              "    <tr style=\"text-align: right;\">\n",
              "      <th></th>\n",
              "      <th>ID</th>\n",
              "      <th>Asst_Reg</th>\n",
              "      <th>GGGrade</th>\n",
              "      <th>Experience</th>\n",
              "      <th>Validation</th>\n",
              "      <th>Yearly Income</th>\n",
              "      <th>Home Status</th>\n",
              "      <th>Unpaid 2 years</th>\n",
              "      <th>Already Defaulted</th>\n",
              "      <th>Designation</th>\n",
              "      <th>...</th>\n",
              "      <th>File Status</th>\n",
              "      <th>State</th>\n",
              "      <th>Account Open</th>\n",
              "      <th>Total Unpaid CL</th>\n",
              "      <th>Duration</th>\n",
              "      <th>Unpaid Amount</th>\n",
              "      <th>Reason</th>\n",
              "      <th>Claim Type</th>\n",
              "      <th>Due Fee</th>\n",
              "      <th>Loan/No Loan</th>\n",
              "    </tr>\n",
              "  </thead>\n",
              "  <tbody>\n",
              "    <tr>\n",
              "      <th>0</th>\n",
              "      <td>95074</td>\n",
              "      <td>421802</td>\n",
              "      <td>II</td>\n",
              "      <td>&gt;10yrs</td>\n",
              "      <td>Vfied</td>\n",
              "      <td>633600.00</td>\n",
              "      <td>MOR??AGE</td>\n",
              "      <td>0</td>\n",
              "      <td>0</td>\n",
              "      <td>GLENDALE NISSAN</td>\n",
              "      <td>...</td>\n",
              "      <td>fully paid</td>\n",
              "      <td>California</td>\n",
              "      <td>17</td>\n",
              "      <td>58598.0</td>\n",
              "      <td>3 years</td>\n",
              "      <td>31216.05</td>\n",
              "      <td>debt  consolidation</td>\n",
              "      <td>I</td>\n",
              "      <td>0.0</td>\n",
              "      <td>0.0</td>\n",
              "    </tr>\n",
              "    <tr>\n",
              "      <th>1</th>\n",
              "      <td>134131</td>\n",
              "      <td>3964312</td>\n",
              "      <td>IV</td>\n",
              "      <td>7yrs</td>\n",
              "      <td>Source Verified</td>\n",
              "      <td>85483.20</td>\n",
              "      <td>REN?</td>\n",
              "      <td>0</td>\n",
              "      <td>0</td>\n",
              "      <td>Business Teacher</td>\n",
              "      <td>...</td>\n",
              "      <td>whole</td>\n",
              "      <td>NC</td>\n",
              "      <td>15</td>\n",
              "      <td>18924.0</td>\n",
              "      <td>5 years</td>\n",
              "      <td>11660.49</td>\n",
              "      <td>debt  consolidation</td>\n",
              "      <td>I</td>\n",
              "      <td>0.0</td>\n",
              "      <td>0.0</td>\n",
              "    </tr>\n",
              "    <tr>\n",
              "      <th>2</th>\n",
              "      <td>92602</td>\n",
              "      <td>4247560</td>\n",
              "      <td>III</td>\n",
              "      <td>&lt;1yr</td>\n",
              "      <td>Source Verified</td>\n",
              "      <td>79200.00</td>\n",
              "      <td>REN?</td>\n",
              "      <td>0</td>\n",
              "      <td>0</td>\n",
              "      <td>driver</td>\n",
              "      <td>...</td>\n",
              "      <td>whole</td>\n",
              "      <td>Florida</td>\n",
              "      <td>7</td>\n",
              "      <td>15604.0</td>\n",
              "      <td>5 years</td>\n",
              "      <td>5637.87</td>\n",
              "      <td>major  purchase</td>\n",
              "      <td>I</td>\n",
              "      <td>0.0</td>\n",
              "      <td>0.0</td>\n",
              "    </tr>\n",
              "    <tr>\n",
              "      <th>3</th>\n",
              "      <td>22591</td>\n",
              "      <td>197179</td>\n",
              "      <td>III</td>\n",
              "      <td>&lt;1yr</td>\n",
              "      <td>Vfied</td>\n",
              "      <td>61600.00</td>\n",
              "      <td>REN?</td>\n",
              "      <td>0</td>\n",
              "      <td>0</td>\n",
              "      <td>AvePoint</td>\n",
              "      <td>...</td>\n",
              "      <td>fully paid</td>\n",
              "      <td>NewJersey</td>\n",
              "      <td>9</td>\n",
              "      <td>22410.0</td>\n",
              "      <td>3 years</td>\n",
              "      <td>15607.17</td>\n",
              "      <td>major  purchase</td>\n",
              "      <td>I</td>\n",
              "      <td>0.0</td>\n",
              "      <td>1.0</td>\n",
              "    </tr>\n",
              "    <tr>\n",
              "      <th>4</th>\n",
              "      <td>125060</td>\n",
              "      <td>4646684</td>\n",
              "      <td>V</td>\n",
              "      <td>2yrs</td>\n",
              "      <td>Source Verified</td>\n",
              "      <td>68053.92</td>\n",
              "      <td>REN?</td>\n",
              "      <td>0</td>\n",
              "      <td>0</td>\n",
              "      <td>Lead Tester</td>\n",
              "      <td>...</td>\n",
              "      <td>fully paid</td>\n",
              "      <td>LA</td>\n",
              "      <td>10</td>\n",
              "      <td>36022.0</td>\n",
              "      <td>5 years</td>\n",
              "      <td>27472.86</td>\n",
              "      <td>debt  consolidation</td>\n",
              "      <td>I</td>\n",
              "      <td>0.0</td>\n",
              "      <td>0.0</td>\n",
              "    </tr>\n",
              "  </tbody>\n",
              "</table>\n",
              "<p>5 rows × 30 columns</p>\n",
              "</div>\n",
              "      <button class=\"colab-df-convert\" onclick=\"convertToInteractive('df-24018de5-bf1c-4431-9d50-140abfafc95e')\"\n",
              "              title=\"Convert this dataframe to an interactive table.\"\n",
              "              style=\"display:none;\">\n",
              "        \n",
              "  <svg xmlns=\"http://www.w3.org/2000/svg\" height=\"24px\"viewBox=\"0 0 24 24\"\n",
              "       width=\"24px\">\n",
              "    <path d=\"M0 0h24v24H0V0z\" fill=\"none\"/>\n",
              "    <path d=\"M18.56 5.44l.94 2.06.94-2.06 2.06-.94-2.06-.94-.94-2.06-.94 2.06-2.06.94zm-11 1L8.5 8.5l.94-2.06 2.06-.94-2.06-.94L8.5 2.5l-.94 2.06-2.06.94zm10 10l.94 2.06.94-2.06 2.06-.94-2.06-.94-.94-2.06-.94 2.06-2.06.94z\"/><path d=\"M17.41 7.96l-1.37-1.37c-.4-.4-.92-.59-1.43-.59-.52 0-1.04.2-1.43.59L10.3 9.45l-7.72 7.72c-.78.78-.78 2.05 0 2.83L4 21.41c.39.39.9.59 1.41.59.51 0 1.02-.2 1.41-.59l7.78-7.78 2.81-2.81c.8-.78.8-2.07 0-2.86zM5.41 20L4 18.59l7.72-7.72 1.47 1.35L5.41 20z\"/>\n",
              "  </svg>\n",
              "      </button>\n",
              "      \n",
              "  <style>\n",
              "    .colab-df-container {\n",
              "      display:flex;\n",
              "      flex-wrap:wrap;\n",
              "      gap: 12px;\n",
              "    }\n",
              "\n",
              "    .colab-df-convert {\n",
              "      background-color: #E8F0FE;\n",
              "      border: none;\n",
              "      border-radius: 50%;\n",
              "      cursor: pointer;\n",
              "      display: none;\n",
              "      fill: #1967D2;\n",
              "      height: 32px;\n",
              "      padding: 0 0 0 0;\n",
              "      width: 32px;\n",
              "    }\n",
              "\n",
              "    .colab-df-convert:hover {\n",
              "      background-color: #E2EBFA;\n",
              "      box-shadow: 0px 1px 2px rgba(60, 64, 67, 0.3), 0px 1px 3px 1px rgba(60, 64, 67, 0.15);\n",
              "      fill: #174EA6;\n",
              "    }\n",
              "\n",
              "    [theme=dark] .colab-df-convert {\n",
              "      background-color: #3B4455;\n",
              "      fill: #D2E3FC;\n",
              "    }\n",
              "\n",
              "    [theme=dark] .colab-df-convert:hover {\n",
              "      background-color: #434B5C;\n",
              "      box-shadow: 0px 1px 3px 1px rgba(0, 0, 0, 0.15);\n",
              "      filter: drop-shadow(0px 1px 2px rgba(0, 0, 0, 0.3));\n",
              "      fill: #FFFFFF;\n",
              "    }\n",
              "  </style>\n",
              "\n",
              "      <script>\n",
              "        const buttonEl =\n",
              "          document.querySelector('#df-24018de5-bf1c-4431-9d50-140abfafc95e button.colab-df-convert');\n",
              "        buttonEl.style.display =\n",
              "          google.colab.kernel.accessAllowed ? 'block' : 'none';\n",
              "\n",
              "        async function convertToInteractive(key) {\n",
              "          const element = document.querySelector('#df-24018de5-bf1c-4431-9d50-140abfafc95e');\n",
              "          const dataTable =\n",
              "            await google.colab.kernel.invokeFunction('convertToInteractive',\n",
              "                                                     [key], {});\n",
              "          if (!dataTable) return;\n",
              "\n",
              "          const docLinkHtml = 'Like what you see? Visit the ' +\n",
              "            '<a target=\"_blank\" href=https://colab.research.google.com/notebooks/data_table.ipynb>data table notebook</a>'\n",
              "            + ' to learn more about interactive tables.';\n",
              "          element.innerHTML = '';\n",
              "          dataTable['output_type'] = 'display_data';\n",
              "          await google.colab.output.renderOutput(dataTable, element);\n",
              "          const docLink = document.createElement('div');\n",
              "          docLink.innerHTML = docLinkHtml;\n",
              "          element.appendChild(docLink);\n",
              "        }\n",
              "      </script>\n",
              "    </div>\n",
              "  </div>\n",
              "  "
            ]
          },
          "metadata": {},
          "execution_count": 2
        }
      ],
      "source": [
        "df=pd.read_csv('Data_Train.csv')\n",
        "df_test = pd.read_csv('Data_Test.csv')\n",
        "df.head()"
      ]
    },
    {
      "cell_type": "code",
      "execution_count": 3,
      "id": "7194201f",
      "metadata": {
        "colab": {
          "base_uri": "https://localhost:8080/"
        },
        "id": "7194201f",
        "outputId": "e218d994-0141-4479-9fe9-7d92ba1f1f87"
      },
      "outputs": [
        {
          "output_type": "execute_result",
          "data": {
            "text/plain": [
              "(69146, 30)"
            ]
          },
          "metadata": {},
          "execution_count": 3
        }
      ],
      "source": [
        "df.shape"
      ]
    },
    {
      "cell_type": "code",
      "execution_count": 4,
      "id": "fa6e0d7a",
      "metadata": {
        "colab": {
          "base_uri": "https://localhost:8080/",
          "height": 382
        },
        "id": "fa6e0d7a",
        "outputId": "b362738b-a143-446e-90b4-4525e15c84a2",
        "scrolled": true
      },
      "outputs": [
        {
          "output_type": "execute_result",
          "data": {
            "text/plain": [
              "                  ID      Asst_Reg  Yearly Income  Unpaid 2 years  \\\n",
              "count   69146.000000  6.914600e+04   6.473600e+04    69146.000000   \n",
              "mean    83878.482790  3.794404e+06   1.348992e+05        0.333237   \n",
              "std     36089.260039  2.289151e+06   1.018061e+05        0.873713   \n",
              "min     21560.000000  2.484700e+04   8.800000e+03        0.000000   \n",
              "25%     52513.250000  1.478776e+06   8.377600e+04        0.000000   \n",
              "50%     83771.000000  4.130828e+06   1.144000e+05        0.000000   \n",
              "75%    115159.750000  5.935683e+06   1.600126e+05        0.000000   \n",
              "max    146559.000000  7.351847e+06   8.264031e+06       18.000000   \n",
              "\n",
              "       Already Defaulted  Debt to Income   Postal Code   Lend Amount  \\\n",
              "count       69146.000000    66408.000000  68020.000000  69146.000000   \n",
              "mean            0.005857       30.925146  51205.263158  25961.153302   \n",
              "std             0.084064       14.098169  31219.920434  14444.668929   \n",
              "min             0.000000        0.000000   1000.000000   1710.000000   \n",
              "25%             0.000000       20.428800  23000.000000  15048.000000   \n",
              "50%             0.000000       30.122400  47800.000000  23940.000000   \n",
              "75%             0.000000       40.874400  80200.000000  34200.000000   \n",
              "max             6.000000      639.290400  99900.000000  59850.000000   \n",
              "\n",
              "       Deprecatory Records  Interest Charged    Usage Rate     Inquiries  \\\n",
              "count         69146.000000      69146.000000  69146.000000  69146.000000   \n",
              "mean              0.201906         16.514846     95.601222      0.670928   \n",
              "std               0.652669          4.902673     40.552586      0.960619   \n",
              "min               0.000000          8.000000      0.000000      0.000000   \n",
              "25%               0.000000         12.320000     66.048000      0.000000   \n",
              "50%               0.000000         16.480000     97.008000      0.000000   \n",
              "75%               0.000000         20.770000    126.592000      1.000000   \n",
              "max              86.000000         25.000000   1534.756000      8.000000   \n",
              "\n",
              "       Present Balance  Gross Collection   Sub GGGrade  Account Open  \\\n",
              "count     6.914600e+04      69146.000000  69146.000000  69146.000000   \n",
              "mean      2.369701e+05         39.186769     22.033422     12.782113   \n",
              "std       2.557378e+05        391.474647      6.448068      5.382286   \n",
              "min       0.000000e+00          0.000000     11.000000      2.000000   \n",
              "25%       5.181217e+04          0.000000     17.000000      9.000000   \n",
              "50%       1.394200e+05          0.000000     21.000000     12.000000   \n",
              "75%       3.549280e+05          0.000000     26.000000     16.000000   \n",
              "max       5.629234e+06      26308.470000     45.000000     83.000000   \n",
              "\n",
              "       Total Unpaid CL  Unpaid Amount       Due Fee  Loan/No Loan  \n",
              "count     6.582300e+04   6.531900e+04  69145.000000  69145.000000  \n",
              "mean      5.334600e+04   2.963816e+04      0.318716      0.190151  \n",
              "std       5.361833e+04   3.785981e+04      3.530202      0.392423  \n",
              "min       3.320000e+02   0.000000e+00      0.000000      0.000000  \n",
              "25%       2.340600e+04   1.148778e+04      0.000000      0.000000  \n",
              "50%       3.967400e+04   2.098170e+04      0.000000      0.000000  \n",
              "75%       6.656600e+04   3.653073e+04      0.000000      0.000000  \n",
              "max       1.710630e+06   1.338778e+06    169.050000      1.000000  "
            ],
            "text/html": [
              "\n",
              "  <div id=\"df-ecbf96ac-fea0-4641-a1a6-060b426a047e\">\n",
              "    <div class=\"colab-df-container\">\n",
              "      <div>\n",
              "<style scoped>\n",
              "    .dataframe tbody tr th:only-of-type {\n",
              "        vertical-align: middle;\n",
              "    }\n",
              "\n",
              "    .dataframe tbody tr th {\n",
              "        vertical-align: top;\n",
              "    }\n",
              "\n",
              "    .dataframe thead th {\n",
              "        text-align: right;\n",
              "    }\n",
              "</style>\n",
              "<table border=\"1\" class=\"dataframe\">\n",
              "  <thead>\n",
              "    <tr style=\"text-align: right;\">\n",
              "      <th></th>\n",
              "      <th>ID</th>\n",
              "      <th>Asst_Reg</th>\n",
              "      <th>Yearly Income</th>\n",
              "      <th>Unpaid 2 years</th>\n",
              "      <th>Already Defaulted</th>\n",
              "      <th>Debt to Income</th>\n",
              "      <th>Postal Code</th>\n",
              "      <th>Lend Amount</th>\n",
              "      <th>Deprecatory Records</th>\n",
              "      <th>Interest Charged</th>\n",
              "      <th>Usage Rate</th>\n",
              "      <th>Inquiries</th>\n",
              "      <th>Present Balance</th>\n",
              "      <th>Gross Collection</th>\n",
              "      <th>Sub GGGrade</th>\n",
              "      <th>Account Open</th>\n",
              "      <th>Total Unpaid CL</th>\n",
              "      <th>Unpaid Amount</th>\n",
              "      <th>Due Fee</th>\n",
              "      <th>Loan/No Loan</th>\n",
              "    </tr>\n",
              "  </thead>\n",
              "  <tbody>\n",
              "    <tr>\n",
              "      <th>count</th>\n",
              "      <td>69146.000000</td>\n",
              "      <td>6.914600e+04</td>\n",
              "      <td>6.473600e+04</td>\n",
              "      <td>69146.000000</td>\n",
              "      <td>69146.000000</td>\n",
              "      <td>66408.000000</td>\n",
              "      <td>68020.000000</td>\n",
              "      <td>69146.000000</td>\n",
              "      <td>69146.000000</td>\n",
              "      <td>69146.000000</td>\n",
              "      <td>69146.000000</td>\n",
              "      <td>69146.000000</td>\n",
              "      <td>6.914600e+04</td>\n",
              "      <td>69146.000000</td>\n",
              "      <td>69146.000000</td>\n",
              "      <td>69146.000000</td>\n",
              "      <td>6.582300e+04</td>\n",
              "      <td>6.531900e+04</td>\n",
              "      <td>69145.000000</td>\n",
              "      <td>69145.000000</td>\n",
              "    </tr>\n",
              "    <tr>\n",
              "      <th>mean</th>\n",
              "      <td>83878.482790</td>\n",
              "      <td>3.794404e+06</td>\n",
              "      <td>1.348992e+05</td>\n",
              "      <td>0.333237</td>\n",
              "      <td>0.005857</td>\n",
              "      <td>30.925146</td>\n",
              "      <td>51205.263158</td>\n",
              "      <td>25961.153302</td>\n",
              "      <td>0.201906</td>\n",
              "      <td>16.514846</td>\n",
              "      <td>95.601222</td>\n",
              "      <td>0.670928</td>\n",
              "      <td>2.369701e+05</td>\n",
              "      <td>39.186769</td>\n",
              "      <td>22.033422</td>\n",
              "      <td>12.782113</td>\n",
              "      <td>5.334600e+04</td>\n",
              "      <td>2.963816e+04</td>\n",
              "      <td>0.318716</td>\n",
              "      <td>0.190151</td>\n",
              "    </tr>\n",
              "    <tr>\n",
              "      <th>std</th>\n",
              "      <td>36089.260039</td>\n",
              "      <td>2.289151e+06</td>\n",
              "      <td>1.018061e+05</td>\n",
              "      <td>0.873713</td>\n",
              "      <td>0.084064</td>\n",
              "      <td>14.098169</td>\n",
              "      <td>31219.920434</td>\n",
              "      <td>14444.668929</td>\n",
              "      <td>0.652669</td>\n",
              "      <td>4.902673</td>\n",
              "      <td>40.552586</td>\n",
              "      <td>0.960619</td>\n",
              "      <td>2.557378e+05</td>\n",
              "      <td>391.474647</td>\n",
              "      <td>6.448068</td>\n",
              "      <td>5.382286</td>\n",
              "      <td>5.361833e+04</td>\n",
              "      <td>3.785981e+04</td>\n",
              "      <td>3.530202</td>\n",
              "      <td>0.392423</td>\n",
              "    </tr>\n",
              "    <tr>\n",
              "      <th>min</th>\n",
              "      <td>21560.000000</td>\n",
              "      <td>2.484700e+04</td>\n",
              "      <td>8.800000e+03</td>\n",
              "      <td>0.000000</td>\n",
              "      <td>0.000000</td>\n",
              "      <td>0.000000</td>\n",
              "      <td>1000.000000</td>\n",
              "      <td>1710.000000</td>\n",
              "      <td>0.000000</td>\n",
              "      <td>8.000000</td>\n",
              "      <td>0.000000</td>\n",
              "      <td>0.000000</td>\n",
              "      <td>0.000000e+00</td>\n",
              "      <td>0.000000</td>\n",
              "      <td>11.000000</td>\n",
              "      <td>2.000000</td>\n",
              "      <td>3.320000e+02</td>\n",
              "      <td>0.000000e+00</td>\n",
              "      <td>0.000000</td>\n",
              "      <td>0.000000</td>\n",
              "    </tr>\n",
              "    <tr>\n",
              "      <th>25%</th>\n",
              "      <td>52513.250000</td>\n",
              "      <td>1.478776e+06</td>\n",
              "      <td>8.377600e+04</td>\n",
              "      <td>0.000000</td>\n",
              "      <td>0.000000</td>\n",
              "      <td>20.428800</td>\n",
              "      <td>23000.000000</td>\n",
              "      <td>15048.000000</td>\n",
              "      <td>0.000000</td>\n",
              "      <td>12.320000</td>\n",
              "      <td>66.048000</td>\n",
              "      <td>0.000000</td>\n",
              "      <td>5.181217e+04</td>\n",
              "      <td>0.000000</td>\n",
              "      <td>17.000000</td>\n",
              "      <td>9.000000</td>\n",
              "      <td>2.340600e+04</td>\n",
              "      <td>1.148778e+04</td>\n",
              "      <td>0.000000</td>\n",
              "      <td>0.000000</td>\n",
              "    </tr>\n",
              "    <tr>\n",
              "      <th>50%</th>\n",
              "      <td>83771.000000</td>\n",
              "      <td>4.130828e+06</td>\n",
              "      <td>1.144000e+05</td>\n",
              "      <td>0.000000</td>\n",
              "      <td>0.000000</td>\n",
              "      <td>30.122400</td>\n",
              "      <td>47800.000000</td>\n",
              "      <td>23940.000000</td>\n",
              "      <td>0.000000</td>\n",
              "      <td>16.480000</td>\n",
              "      <td>97.008000</td>\n",
              "      <td>0.000000</td>\n",
              "      <td>1.394200e+05</td>\n",
              "      <td>0.000000</td>\n",
              "      <td>21.000000</td>\n",
              "      <td>12.000000</td>\n",
              "      <td>3.967400e+04</td>\n",
              "      <td>2.098170e+04</td>\n",
              "      <td>0.000000</td>\n",
              "      <td>0.000000</td>\n",
              "    </tr>\n",
              "    <tr>\n",
              "      <th>75%</th>\n",
              "      <td>115159.750000</td>\n",
              "      <td>5.935683e+06</td>\n",
              "      <td>1.600126e+05</td>\n",
              "      <td>0.000000</td>\n",
              "      <td>0.000000</td>\n",
              "      <td>40.874400</td>\n",
              "      <td>80200.000000</td>\n",
              "      <td>34200.000000</td>\n",
              "      <td>0.000000</td>\n",
              "      <td>20.770000</td>\n",
              "      <td>126.592000</td>\n",
              "      <td>1.000000</td>\n",
              "      <td>3.549280e+05</td>\n",
              "      <td>0.000000</td>\n",
              "      <td>26.000000</td>\n",
              "      <td>16.000000</td>\n",
              "      <td>6.656600e+04</td>\n",
              "      <td>3.653073e+04</td>\n",
              "      <td>0.000000</td>\n",
              "      <td>0.000000</td>\n",
              "    </tr>\n",
              "    <tr>\n",
              "      <th>max</th>\n",
              "      <td>146559.000000</td>\n",
              "      <td>7.351847e+06</td>\n",
              "      <td>8.264031e+06</td>\n",
              "      <td>18.000000</td>\n",
              "      <td>6.000000</td>\n",
              "      <td>639.290400</td>\n",
              "      <td>99900.000000</td>\n",
              "      <td>59850.000000</td>\n",
              "      <td>86.000000</td>\n",
              "      <td>25.000000</td>\n",
              "      <td>1534.756000</td>\n",
              "      <td>8.000000</td>\n",
              "      <td>5.629234e+06</td>\n",
              "      <td>26308.470000</td>\n",
              "      <td>45.000000</td>\n",
              "      <td>83.000000</td>\n",
              "      <td>1.710630e+06</td>\n",
              "      <td>1.338778e+06</td>\n",
              "      <td>169.050000</td>\n",
              "      <td>1.000000</td>\n",
              "    </tr>\n",
              "  </tbody>\n",
              "</table>\n",
              "</div>\n",
              "      <button class=\"colab-df-convert\" onclick=\"convertToInteractive('df-ecbf96ac-fea0-4641-a1a6-060b426a047e')\"\n",
              "              title=\"Convert this dataframe to an interactive table.\"\n",
              "              style=\"display:none;\">\n",
              "        \n",
              "  <svg xmlns=\"http://www.w3.org/2000/svg\" height=\"24px\"viewBox=\"0 0 24 24\"\n",
              "       width=\"24px\">\n",
              "    <path d=\"M0 0h24v24H0V0z\" fill=\"none\"/>\n",
              "    <path d=\"M18.56 5.44l.94 2.06.94-2.06 2.06-.94-2.06-.94-.94-2.06-.94 2.06-2.06.94zm-11 1L8.5 8.5l.94-2.06 2.06-.94-2.06-.94L8.5 2.5l-.94 2.06-2.06.94zm10 10l.94 2.06.94-2.06 2.06-.94-2.06-.94-.94-2.06-.94 2.06-2.06.94z\"/><path d=\"M17.41 7.96l-1.37-1.37c-.4-.4-.92-.59-1.43-.59-.52 0-1.04.2-1.43.59L10.3 9.45l-7.72 7.72c-.78.78-.78 2.05 0 2.83L4 21.41c.39.39.9.59 1.41.59.51 0 1.02-.2 1.41-.59l7.78-7.78 2.81-2.81c.8-.78.8-2.07 0-2.86zM5.41 20L4 18.59l7.72-7.72 1.47 1.35L5.41 20z\"/>\n",
              "  </svg>\n",
              "      </button>\n",
              "      \n",
              "  <style>\n",
              "    .colab-df-container {\n",
              "      display:flex;\n",
              "      flex-wrap:wrap;\n",
              "      gap: 12px;\n",
              "    }\n",
              "\n",
              "    .colab-df-convert {\n",
              "      background-color: #E8F0FE;\n",
              "      border: none;\n",
              "      border-radius: 50%;\n",
              "      cursor: pointer;\n",
              "      display: none;\n",
              "      fill: #1967D2;\n",
              "      height: 32px;\n",
              "      padding: 0 0 0 0;\n",
              "      width: 32px;\n",
              "    }\n",
              "\n",
              "    .colab-df-convert:hover {\n",
              "      background-color: #E2EBFA;\n",
              "      box-shadow: 0px 1px 2px rgba(60, 64, 67, 0.3), 0px 1px 3px 1px rgba(60, 64, 67, 0.15);\n",
              "      fill: #174EA6;\n",
              "    }\n",
              "\n",
              "    [theme=dark] .colab-df-convert {\n",
              "      background-color: #3B4455;\n",
              "      fill: #D2E3FC;\n",
              "    }\n",
              "\n",
              "    [theme=dark] .colab-df-convert:hover {\n",
              "      background-color: #434B5C;\n",
              "      box-shadow: 0px 1px 3px 1px rgba(0, 0, 0, 0.15);\n",
              "      filter: drop-shadow(0px 1px 2px rgba(0, 0, 0, 0.3));\n",
              "      fill: #FFFFFF;\n",
              "    }\n",
              "  </style>\n",
              "\n",
              "      <script>\n",
              "        const buttonEl =\n",
              "          document.querySelector('#df-ecbf96ac-fea0-4641-a1a6-060b426a047e button.colab-df-convert');\n",
              "        buttonEl.style.display =\n",
              "          google.colab.kernel.accessAllowed ? 'block' : 'none';\n",
              "\n",
              "        async function convertToInteractive(key) {\n",
              "          const element = document.querySelector('#df-ecbf96ac-fea0-4641-a1a6-060b426a047e');\n",
              "          const dataTable =\n",
              "            await google.colab.kernel.invokeFunction('convertToInteractive',\n",
              "                                                     [key], {});\n",
              "          if (!dataTable) return;\n",
              "\n",
              "          const docLinkHtml = 'Like what you see? Visit the ' +\n",
              "            '<a target=\"_blank\" href=https://colab.research.google.com/notebooks/data_table.ipynb>data table notebook</a>'\n",
              "            + ' to learn more about interactive tables.';\n",
              "          element.innerHTML = '';\n",
              "          dataTable['output_type'] = 'display_data';\n",
              "          await google.colab.output.renderOutput(dataTable, element);\n",
              "          const docLink = document.createElement('div');\n",
              "          docLink.innerHTML = docLinkHtml;\n",
              "          element.appendChild(docLink);\n",
              "        }\n",
              "      </script>\n",
              "    </div>\n",
              "  </div>\n",
              "  "
            ]
          },
          "metadata": {},
          "execution_count": 4
        }
      ],
      "source": [
        "df.describe()"
      ]
    },
    {
      "cell_type": "code",
      "execution_count": 5,
      "id": "9d2a7259",
      "metadata": {
        "colab": {
          "base_uri": "https://localhost:8080/"
        },
        "id": "9d2a7259",
        "outputId": "ff8921d6-f79f-41a2-9c61-d24e55468fb8"
      },
      "outputs": [
        {
          "output_type": "execute_result",
          "data": {
            "text/plain": [
              "ID                       int64\n",
              "Asst_Reg                 int64\n",
              "GGGrade                 object\n",
              "Experience              object\n",
              "Validation              object\n",
              "Yearly Income          float64\n",
              "Home Status             object\n",
              "Unpaid 2 years           int64\n",
              "Already Defaulted        int64\n",
              "Designation             object\n",
              "Debt to Income         float64\n",
              "Postal Code            float64\n",
              "Lend Amount            float64\n",
              "Deprecatory Records      int64\n",
              "Interest Charged       float64\n",
              "Usage Rate             float64\n",
              "Inquiries                int64\n",
              "Present Balance        float64\n",
              "Gross Collection       float64\n",
              "Sub GGGrade              int64\n",
              "File Status             object\n",
              "State                   object\n",
              "Account Open             int64\n",
              "Total Unpaid CL        float64\n",
              "Duration                object\n",
              "Unpaid Amount          float64\n",
              "Reason                  object\n",
              "Claim Type              object\n",
              "Due Fee                float64\n",
              "Loan/No Loan           float64\n",
              "dtype: object"
            ]
          },
          "metadata": {},
          "execution_count": 5
        }
      ],
      "source": [
        "df.dtypes"
      ]
    },
    {
      "cell_type": "markdown",
      "id": "362da514",
      "metadata": {
        "id": "362da514"
      },
      "source": [
        "# DATA CLEANING (TRAIN DATA) "
      ]
    },
    {
      "cell_type": "code",
      "execution_count": 6,
      "id": "2465ea11",
      "metadata": {
        "id": "2465ea11"
      },
      "outputs": [],
      "source": [
        "df['Loan/No Loan'] = df['Loan/No Loan'].astype('O')\n"
      ]
    },
    {
      "cell_type": "code",
      "execution_count": 7,
      "id": "070d752e",
      "metadata": {
        "colab": {
          "base_uri": "https://localhost:8080/"
        },
        "id": "070d752e",
        "outputId": "b283729b-1425-4422-f685-389192e1f6fc"
      },
      "outputs": [
        {
          "output_type": "execute_result",
          "data": {
            "text/plain": [
              "dtype('O')"
            ]
          },
          "metadata": {},
          "execution_count": 7
        }
      ],
      "source": [
        "df['Loan/No Loan'].dtype"
      ]
    },
    {
      "cell_type": "code",
      "execution_count": 8,
      "id": "ebcf20f1",
      "metadata": {
        "colab": {
          "base_uri": "https://localhost:8080/"
        },
        "id": "ebcf20f1",
        "outputId": "fa4efb09-812d-47a1-fe16-096db1d5e53a"
      },
      "outputs": [
        {
          "output_type": "execute_result",
          "data": {
            "text/plain": [
              "ID                        0\n",
              "Asst_Reg                  0\n",
              "GGGrade                   0\n",
              "Experience                0\n",
              "Validation                0\n",
              "Yearly Income          4410\n",
              "Home Status               0\n",
              "Unpaid 2 years            0\n",
              "Already Defaulted         0\n",
              "Designation            1126\n",
              "Debt to Income         2738\n",
              "Postal Code            1126\n",
              "Lend Amount               0\n",
              "Deprecatory Records       0\n",
              "Interest Charged          0\n",
              "Usage Rate                0\n",
              "Inquiries                 0\n",
              "Present Balance           0\n",
              "Gross Collection          0\n",
              "Sub GGGrade               0\n",
              "File Status               0\n",
              "State                     0\n",
              "Account Open              0\n",
              "Total Unpaid CL        3323\n",
              "Duration                  0\n",
              "Unpaid Amount          3827\n",
              "Reason                    0\n",
              "Claim Type                1\n",
              "Due Fee                   1\n",
              "Loan/No Loan              1\n",
              "dtype: int64"
            ]
          },
          "metadata": {},
          "execution_count": 8
        }
      ],
      "source": [
        "df.isnull().sum()"
      ]
    },
    {
      "cell_type": "code",
      "execution_count": 9,
      "id": "30cd9e7b",
      "metadata": {
        "colab": {
          "base_uri": "https://localhost:8080/"
        },
        "id": "30cd9e7b",
        "outputId": "b79ddbde-0fcd-42ac-9a2d-5f2bdc6271ec"
      },
      "outputs": [
        {
          "output_type": "execute_result",
          "data": {
            "text/plain": [
              "Index(['ID', 'Asst_Reg', 'Yearly Income', 'Unpaid 2 years',\n",
              "       'Already Defaulted', 'Debt to Income', 'Postal Code', 'Lend Amount',\n",
              "       'Deprecatory Records', 'Interest Charged', 'Usage Rate', 'Inquiries',\n",
              "       'Present Balance', 'Gross Collection', 'Sub GGGrade', 'Account Open',\n",
              "       'Total Unpaid CL', 'Unpaid Amount', 'Due Fee'],\n",
              "      dtype='object')"
            ]
          },
          "metadata": {},
          "execution_count": 9
        }
      ],
      "source": [
        "df_num = df.select_dtypes(np.number)\n",
        "df_num.columns"
      ]
    },
    {
      "cell_type": "code",
      "execution_count": 10,
      "id": "aed98c92",
      "metadata": {
        "colab": {
          "base_uri": "https://localhost:8080/"
        },
        "id": "aed98c92",
        "outputId": "aaaee74c-43f0-4d12-c06c-b33259a04c70"
      },
      "outputs": [
        {
          "output_type": "execute_result",
          "data": {
            "text/plain": [
              "ID                        0\n",
              "Asst_Reg                  0\n",
              "Yearly Income          4410\n",
              "Unpaid 2 years            0\n",
              "Already Defaulted         0\n",
              "Debt to Income         2738\n",
              "Postal Code            1126\n",
              "Lend Amount               0\n",
              "Deprecatory Records       0\n",
              "Interest Charged          0\n",
              "Usage Rate                0\n",
              "Inquiries                 0\n",
              "Present Balance           0\n",
              "Gross Collection          0\n",
              "Sub GGGrade               0\n",
              "Account Open              0\n",
              "Total Unpaid CL        3323\n",
              "Unpaid Amount          3827\n",
              "Due Fee                   1\n",
              "dtype: int64"
            ]
          },
          "metadata": {},
          "execution_count": 10
        }
      ],
      "source": [
        "df_num.isnull().sum()"
      ]
    },
    {
      "cell_type": "code",
      "execution_count": 11,
      "id": "3ff918e9",
      "metadata": {
        "colab": {
          "base_uri": "https://localhost:8080/"
        },
        "id": "3ff918e9",
        "outputId": "aa348a7e-dd3a-44a6-9302-4b68a6ee0fbd"
      },
      "outputs": [
        {
          "output_type": "execute_result",
          "data": {
            "text/plain": [
              "ID                     0\n",
              "Asst_Reg               0\n",
              "Yearly Income          0\n",
              "Unpaid 2 years         0\n",
              "Already Defaulted      0\n",
              "Debt to Income         0\n",
              "Postal Code            0\n",
              "Lend Amount            0\n",
              "Deprecatory Records    0\n",
              "Interest Charged       0\n",
              "Usage Rate             0\n",
              "Inquiries              0\n",
              "Present Balance        0\n",
              "Gross Collection       0\n",
              "Sub GGGrade            0\n",
              "Account Open           0\n",
              "Total Unpaid CL        0\n",
              "Unpaid Amount          0\n",
              "Due Fee                0\n",
              "dtype: int64"
            ]
          },
          "metadata": {},
          "execution_count": 11
        }
      ],
      "source": [
        "from sklearn.impute import SimpleImputer\n",
        "sim = SimpleImputer(strategy = 'median').fit_transform(df_num.values)\n",
        "df_num = pd.DataFrame(sim,index = df_num.index,columns = df_num.columns)\n",
        "\n",
        "df_num.isnull().sum()"
      ]
    },
    {
      "cell_type": "code",
      "execution_count": 12,
      "id": "fbf55cc8",
      "metadata": {
        "colab": {
          "base_uri": "https://localhost:8080/"
        },
        "id": "fbf55cc8",
        "outputId": "4e043a03-5fad-47f1-cdc2-fb46b28da3f8"
      },
      "outputs": [
        {
          "output_type": "execute_result",
          "data": {
            "text/plain": [
              "Index(['GGGrade', 'Experience', 'Validation', 'Home Status', 'Designation',\n",
              "       'File Status', 'State', 'Duration', 'Reason', 'Claim Type',\n",
              "       'Loan/No Loan'],\n",
              "      dtype='object')"
            ]
          },
          "metadata": {},
          "execution_count": 12
        }
      ],
      "source": [
        "df_cat = df.select_dtypes('O')\n",
        "df_cat.columns"
      ]
    },
    {
      "cell_type": "code",
      "execution_count": 13,
      "id": "6dd3528d",
      "metadata": {
        "colab": {
          "base_uri": "https://localhost:8080/"
        },
        "id": "6dd3528d",
        "outputId": "5acbe169-18cf-45b2-abb1-20c301cf37cc",
        "scrolled": true
      },
      "outputs": [
        {
          "output_type": "execute_result",
          "data": {
            "text/plain": [
              "GGGrade            0\n",
              "Experience         0\n",
              "Validation         0\n",
              "Home Status        0\n",
              "Designation     1126\n",
              "File Status        0\n",
              "State              0\n",
              "Duration           0\n",
              "Reason             0\n",
              "Claim Type         1\n",
              "Loan/No Loan       1\n",
              "dtype: int64"
            ]
          },
          "metadata": {},
          "execution_count": 13
        }
      ],
      "source": [
        "df_cat.isnull().sum()"
      ]
    },
    {
      "cell_type": "code",
      "execution_count": 14,
      "id": "bd18fa4b",
      "metadata": {
        "colab": {
          "base_uri": "https://localhost:8080/"
        },
        "id": "bd18fa4b",
        "outputId": "69671c21-47cc-42cd-9a37-ea756cbbde7e"
      },
      "outputs": [
        {
          "output_type": "execute_result",
          "data": {
            "text/plain": [
              "GGGrade         0\n",
              "Experience      0\n",
              "Validation      0\n",
              "Home Status     0\n",
              "Designation     0\n",
              "File Status     0\n",
              "State           0\n",
              "Duration        0\n",
              "Reason          0\n",
              "Claim Type      0\n",
              "Loan/No Loan    0\n",
              "dtype: int64"
            ]
          },
          "metadata": {},
          "execution_count": 14
        }
      ],
      "source": [
        "si = SimpleImputer(strategy = 'most_frequent').fit_transform(df_cat.values)\n",
        "df_cat = pd.DataFrame(si,index = df_cat.index,columns = df_cat.columns)\n",
        "\n",
        "df_cat.isnull().sum()"
      ]
    },
    {
      "cell_type": "code",
      "execution_count": 15,
      "id": "2d3fdb73",
      "metadata": {
        "colab": {
          "base_uri": "https://localhost:8080/"
        },
        "id": "2d3fdb73",
        "outputId": "ce0650c6-a811-4dc0-b010-46198262d4dc"
      },
      "outputs": [
        {
          "output_type": "execute_result",
          "data": {
            "text/plain": [
              "ID                     0\n",
              "Asst_Reg               0\n",
              "Yearly Income          0\n",
              "Unpaid 2 years         0\n",
              "Already Defaulted      0\n",
              "Debt to Income         0\n",
              "Postal Code            0\n",
              "Lend Amount            0\n",
              "Deprecatory Records    0\n",
              "Interest Charged       0\n",
              "Usage Rate             0\n",
              "Inquiries              0\n",
              "Present Balance        0\n",
              "Gross Collection       0\n",
              "Sub GGGrade            0\n",
              "Account Open           0\n",
              "Total Unpaid CL        0\n",
              "Unpaid Amount          0\n",
              "Due Fee                0\n",
              "GGGrade                0\n",
              "Experience             0\n",
              "Validation             0\n",
              "Home Status            0\n",
              "Designation            0\n",
              "File Status            0\n",
              "State                  0\n",
              "Duration               0\n",
              "Reason                 0\n",
              "Claim Type             0\n",
              "Loan/No Loan           0\n",
              "dtype: int64"
            ]
          },
          "metadata": {},
          "execution_count": 15
        }
      ],
      "source": [
        "df  = pd.concat([df_num,df_cat],axis = 1)\n",
        "df.isnull().sum()"
      ]
    },
    {
      "cell_type": "code",
      "execution_count": 16,
      "id": "fc7c8964",
      "metadata": {
        "colab": {
          "base_uri": "https://localhost:8080/",
          "height": 606
        },
        "id": "fc7c8964",
        "outputId": "642b74b2-8c26-42d7-e393-678c620526e6"
      },
      "outputs": [
        {
          "output_type": "execute_result",
          "data": {
            "text/plain": [
              "      GGGrade Experience       Validation Home Status  \\\n",
              "0          II     >10yrs            Vfied    MOR??AGE   \n",
              "1          IV       7yrs  Source Verified        REN?   \n",
              "2         III       <1yr  Source Verified        REN?   \n",
              "3         III       <1yr            Vfied        REN?   \n",
              "4           V       2yrs  Source Verified        REN?   \n",
              "...       ...        ...              ...         ...   \n",
              "69141     III     >10yrs  Source Verified    MOR??AGE   \n",
              "69142      IV       4yrs            Vfied        REN?   \n",
              "69143       I       <1yr            Vfied         OWN   \n",
              "69144     III       1yrs  Source Verified        REN?   \n",
              "69145       I       9yrs        Not Vfied        REN?   \n",
              "\n",
              "                                Designation File Status       State Duration  \\\n",
              "0                           GLENDALE NISSAN  fully paid  California  3 years   \n",
              "1                          Business Teacher       whole          NC  5 years   \n",
              "2                                    driver       whole     Florida  5 years   \n",
              "3                                  AvePoint  fully paid   NewJersey  3 years   \n",
              "4                               Lead Tester  fully paid          LA  5 years   \n",
              "...                                     ...         ...         ...      ...   \n",
              "69141                 Environmental Analyst       whole     Florida  3 years   \n",
              "69142  Director of New Business Development  fully paid          TN  5 years   \n",
              "69143                        Accellion Inc.  fully paid  California  3 years   \n",
              "69144                               Cashier       whole          PA  5 years   \n",
              "69145                             CrewChief       whole          GA  3 years   \n",
              "\n",
              "                    Reason Claim Type Loan/No Loan  \n",
              "0      debt  consolidation          I          0.0  \n",
              "1      debt  consolidation          I          0.0  \n",
              "2          major  purchase          I          0.0  \n",
              "3          major  purchase          I          1.0  \n",
              "4      debt  consolidation          I          0.0  \n",
              "...                    ...        ...          ...  \n",
              "69141    home  improvement          I          0.0  \n",
              "69142  debt  consolidation          I          0.0  \n",
              "69143         credit  card          I          1.0  \n",
              "69144         credit  card          I          0.0  \n",
              "69145       debt  consolid          I          0.0  \n",
              "\n",
              "[69146 rows x 11 columns]"
            ],
            "text/html": [
              "\n",
              "  <div id=\"df-9d5c4d4a-d7d3-4044-9811-205f7c486d8a\">\n",
              "    <div class=\"colab-df-container\">\n",
              "      <div>\n",
              "<style scoped>\n",
              "    .dataframe tbody tr th:only-of-type {\n",
              "        vertical-align: middle;\n",
              "    }\n",
              "\n",
              "    .dataframe tbody tr th {\n",
              "        vertical-align: top;\n",
              "    }\n",
              "\n",
              "    .dataframe thead th {\n",
              "        text-align: right;\n",
              "    }\n",
              "</style>\n",
              "<table border=\"1\" class=\"dataframe\">\n",
              "  <thead>\n",
              "    <tr style=\"text-align: right;\">\n",
              "      <th></th>\n",
              "      <th>GGGrade</th>\n",
              "      <th>Experience</th>\n",
              "      <th>Validation</th>\n",
              "      <th>Home Status</th>\n",
              "      <th>Designation</th>\n",
              "      <th>File Status</th>\n",
              "      <th>State</th>\n",
              "      <th>Duration</th>\n",
              "      <th>Reason</th>\n",
              "      <th>Claim Type</th>\n",
              "      <th>Loan/No Loan</th>\n",
              "    </tr>\n",
              "  </thead>\n",
              "  <tbody>\n",
              "    <tr>\n",
              "      <th>0</th>\n",
              "      <td>II</td>\n",
              "      <td>&gt;10yrs</td>\n",
              "      <td>Vfied</td>\n",
              "      <td>MOR??AGE</td>\n",
              "      <td>GLENDALE NISSAN</td>\n",
              "      <td>fully paid</td>\n",
              "      <td>California</td>\n",
              "      <td>3 years</td>\n",
              "      <td>debt  consolidation</td>\n",
              "      <td>I</td>\n",
              "      <td>0.0</td>\n",
              "    </tr>\n",
              "    <tr>\n",
              "      <th>1</th>\n",
              "      <td>IV</td>\n",
              "      <td>7yrs</td>\n",
              "      <td>Source Verified</td>\n",
              "      <td>REN?</td>\n",
              "      <td>Business Teacher</td>\n",
              "      <td>whole</td>\n",
              "      <td>NC</td>\n",
              "      <td>5 years</td>\n",
              "      <td>debt  consolidation</td>\n",
              "      <td>I</td>\n",
              "      <td>0.0</td>\n",
              "    </tr>\n",
              "    <tr>\n",
              "      <th>2</th>\n",
              "      <td>III</td>\n",
              "      <td>&lt;1yr</td>\n",
              "      <td>Source Verified</td>\n",
              "      <td>REN?</td>\n",
              "      <td>driver</td>\n",
              "      <td>whole</td>\n",
              "      <td>Florida</td>\n",
              "      <td>5 years</td>\n",
              "      <td>major  purchase</td>\n",
              "      <td>I</td>\n",
              "      <td>0.0</td>\n",
              "    </tr>\n",
              "    <tr>\n",
              "      <th>3</th>\n",
              "      <td>III</td>\n",
              "      <td>&lt;1yr</td>\n",
              "      <td>Vfied</td>\n",
              "      <td>REN?</td>\n",
              "      <td>AvePoint</td>\n",
              "      <td>fully paid</td>\n",
              "      <td>NewJersey</td>\n",
              "      <td>3 years</td>\n",
              "      <td>major  purchase</td>\n",
              "      <td>I</td>\n",
              "      <td>1.0</td>\n",
              "    </tr>\n",
              "    <tr>\n",
              "      <th>4</th>\n",
              "      <td>V</td>\n",
              "      <td>2yrs</td>\n",
              "      <td>Source Verified</td>\n",
              "      <td>REN?</td>\n",
              "      <td>Lead Tester</td>\n",
              "      <td>fully paid</td>\n",
              "      <td>LA</td>\n",
              "      <td>5 years</td>\n",
              "      <td>debt  consolidation</td>\n",
              "      <td>I</td>\n",
              "      <td>0.0</td>\n",
              "    </tr>\n",
              "    <tr>\n",
              "      <th>...</th>\n",
              "      <td>...</td>\n",
              "      <td>...</td>\n",
              "      <td>...</td>\n",
              "      <td>...</td>\n",
              "      <td>...</td>\n",
              "      <td>...</td>\n",
              "      <td>...</td>\n",
              "      <td>...</td>\n",
              "      <td>...</td>\n",
              "      <td>...</td>\n",
              "      <td>...</td>\n",
              "    </tr>\n",
              "    <tr>\n",
              "      <th>69141</th>\n",
              "      <td>III</td>\n",
              "      <td>&gt;10yrs</td>\n",
              "      <td>Source Verified</td>\n",
              "      <td>MOR??AGE</td>\n",
              "      <td>Environmental Analyst</td>\n",
              "      <td>whole</td>\n",
              "      <td>Florida</td>\n",
              "      <td>3 years</td>\n",
              "      <td>home  improvement</td>\n",
              "      <td>I</td>\n",
              "      <td>0.0</td>\n",
              "    </tr>\n",
              "    <tr>\n",
              "      <th>69142</th>\n",
              "      <td>IV</td>\n",
              "      <td>4yrs</td>\n",
              "      <td>Vfied</td>\n",
              "      <td>REN?</td>\n",
              "      <td>Director of New Business Development</td>\n",
              "      <td>fully paid</td>\n",
              "      <td>TN</td>\n",
              "      <td>5 years</td>\n",
              "      <td>debt  consolidation</td>\n",
              "      <td>I</td>\n",
              "      <td>0.0</td>\n",
              "    </tr>\n",
              "    <tr>\n",
              "      <th>69143</th>\n",
              "      <td>I</td>\n",
              "      <td>&lt;1yr</td>\n",
              "      <td>Vfied</td>\n",
              "      <td>OWN</td>\n",
              "      <td>Accellion Inc.</td>\n",
              "      <td>fully paid</td>\n",
              "      <td>California</td>\n",
              "      <td>3 years</td>\n",
              "      <td>credit  card</td>\n",
              "      <td>I</td>\n",
              "      <td>1.0</td>\n",
              "    </tr>\n",
              "    <tr>\n",
              "      <th>69144</th>\n",
              "      <td>III</td>\n",
              "      <td>1yrs</td>\n",
              "      <td>Source Verified</td>\n",
              "      <td>REN?</td>\n",
              "      <td>Cashier</td>\n",
              "      <td>whole</td>\n",
              "      <td>PA</td>\n",
              "      <td>5 years</td>\n",
              "      <td>credit  card</td>\n",
              "      <td>I</td>\n",
              "      <td>0.0</td>\n",
              "    </tr>\n",
              "    <tr>\n",
              "      <th>69145</th>\n",
              "      <td>I</td>\n",
              "      <td>9yrs</td>\n",
              "      <td>Not Vfied</td>\n",
              "      <td>REN?</td>\n",
              "      <td>CrewChief</td>\n",
              "      <td>whole</td>\n",
              "      <td>GA</td>\n",
              "      <td>3 years</td>\n",
              "      <td>debt  consolid</td>\n",
              "      <td>I</td>\n",
              "      <td>0.0</td>\n",
              "    </tr>\n",
              "  </tbody>\n",
              "</table>\n",
              "<p>69146 rows × 11 columns</p>\n",
              "</div>\n",
              "      <button class=\"colab-df-convert\" onclick=\"convertToInteractive('df-9d5c4d4a-d7d3-4044-9811-205f7c486d8a')\"\n",
              "              title=\"Convert this dataframe to an interactive table.\"\n",
              "              style=\"display:none;\">\n",
              "        \n",
              "  <svg xmlns=\"http://www.w3.org/2000/svg\" height=\"24px\"viewBox=\"0 0 24 24\"\n",
              "       width=\"24px\">\n",
              "    <path d=\"M0 0h24v24H0V0z\" fill=\"none\"/>\n",
              "    <path d=\"M18.56 5.44l.94 2.06.94-2.06 2.06-.94-2.06-.94-.94-2.06-.94 2.06-2.06.94zm-11 1L8.5 8.5l.94-2.06 2.06-.94-2.06-.94L8.5 2.5l-.94 2.06-2.06.94zm10 10l.94 2.06.94-2.06 2.06-.94-2.06-.94-.94-2.06-.94 2.06-2.06.94z\"/><path d=\"M17.41 7.96l-1.37-1.37c-.4-.4-.92-.59-1.43-.59-.52 0-1.04.2-1.43.59L10.3 9.45l-7.72 7.72c-.78.78-.78 2.05 0 2.83L4 21.41c.39.39.9.59 1.41.59.51 0 1.02-.2 1.41-.59l7.78-7.78 2.81-2.81c.8-.78.8-2.07 0-2.86zM5.41 20L4 18.59l7.72-7.72 1.47 1.35L5.41 20z\"/>\n",
              "  </svg>\n",
              "      </button>\n",
              "      \n",
              "  <style>\n",
              "    .colab-df-container {\n",
              "      display:flex;\n",
              "      flex-wrap:wrap;\n",
              "      gap: 12px;\n",
              "    }\n",
              "\n",
              "    .colab-df-convert {\n",
              "      background-color: #E8F0FE;\n",
              "      border: none;\n",
              "      border-radius: 50%;\n",
              "      cursor: pointer;\n",
              "      display: none;\n",
              "      fill: #1967D2;\n",
              "      height: 32px;\n",
              "      padding: 0 0 0 0;\n",
              "      width: 32px;\n",
              "    }\n",
              "\n",
              "    .colab-df-convert:hover {\n",
              "      background-color: #E2EBFA;\n",
              "      box-shadow: 0px 1px 2px rgba(60, 64, 67, 0.3), 0px 1px 3px 1px rgba(60, 64, 67, 0.15);\n",
              "      fill: #174EA6;\n",
              "    }\n",
              "\n",
              "    [theme=dark] .colab-df-convert {\n",
              "      background-color: #3B4455;\n",
              "      fill: #D2E3FC;\n",
              "    }\n",
              "\n",
              "    [theme=dark] .colab-df-convert:hover {\n",
              "      background-color: #434B5C;\n",
              "      box-shadow: 0px 1px 3px 1px rgba(0, 0, 0, 0.15);\n",
              "      filter: drop-shadow(0px 1px 2px rgba(0, 0, 0, 0.3));\n",
              "      fill: #FFFFFF;\n",
              "    }\n",
              "  </style>\n",
              "\n",
              "      <script>\n",
              "        const buttonEl =\n",
              "          document.querySelector('#df-9d5c4d4a-d7d3-4044-9811-205f7c486d8a button.colab-df-convert');\n",
              "        buttonEl.style.display =\n",
              "          google.colab.kernel.accessAllowed ? 'block' : 'none';\n",
              "\n",
              "        async function convertToInteractive(key) {\n",
              "          const element = document.querySelector('#df-9d5c4d4a-d7d3-4044-9811-205f7c486d8a');\n",
              "          const dataTable =\n",
              "            await google.colab.kernel.invokeFunction('convertToInteractive',\n",
              "                                                     [key], {});\n",
              "          if (!dataTable) return;\n",
              "\n",
              "          const docLinkHtml = 'Like what you see? Visit the ' +\n",
              "            '<a target=\"_blank\" href=https://colab.research.google.com/notebooks/data_table.ipynb>data table notebook</a>'\n",
              "            + ' to learn more about interactive tables.';\n",
              "          element.innerHTML = '';\n",
              "          dataTable['output_type'] = 'display_data';\n",
              "          await google.colab.output.renderOutput(dataTable, element);\n",
              "          const docLink = document.createElement('div');\n",
              "          docLink.innerHTML = docLinkHtml;\n",
              "          element.appendChild(docLink);\n",
              "        }\n",
              "      </script>\n",
              "    </div>\n",
              "  </div>\n",
              "  "
            ]
          },
          "metadata": {},
          "execution_count": 16
        }
      ],
      "source": [
        "df_cat"
      ]
    },
    {
      "cell_type": "code",
      "execution_count": 17,
      "id": "dacb9c00",
      "metadata": {
        "colab": {
          "base_uri": "https://localhost:8080/"
        },
        "id": "dacb9c00",
        "outputId": "99ab268f-7753-4111-962e-cb160944c19f"
      },
      "outputs": [
        {
          "output_type": "execute_result",
          "data": {
            "text/plain": [
              "MOR??AGE    34982\n",
              "REN?        27492\n",
              "OWN          6665\n",
              "OTHER           5\n",
              "NONE            2\n",
              "Name: Home Status, dtype: int64"
            ]
          },
          "metadata": {},
          "execution_count": 17
        }
      ],
      "source": [
        "df['Home Status'].value_counts()\n"
      ]
    },
    {
      "cell_type": "code",
      "execution_count": 18,
      "id": "00dcf1fb",
      "metadata": {
        "id": "00dcf1fb"
      },
      "outputs": [],
      "source": [
        "df['Home Status'].replace('MOR??AGE','MORTGAGE',inplace = True)\n"
      ]
    },
    {
      "cell_type": "code",
      "execution_count": 19,
      "id": "0c7525ce",
      "metadata": {
        "id": "0c7525ce"
      },
      "outputs": [],
      "source": [
        "df['Home Status'] = df['Home Status'].str.replace('?','T')"
      ]
    },
    {
      "cell_type": "code",
      "execution_count": 20,
      "id": "979e3b9d",
      "metadata": {
        "colab": {
          "base_uri": "https://localhost:8080/"
        },
        "id": "979e3b9d",
        "outputId": "f524779c-8c15-41aa-ec60-19f0e4e0d6a8"
      },
      "outputs": [
        {
          "output_type": "execute_result",
          "data": {
            "text/plain": [
              "MORTGAGE    34982\n",
              "RENT        27492\n",
              "OWN          6665\n",
              "OTHER           5\n",
              "NONE            2\n",
              "Name: Home Status, dtype: int64"
            ]
          },
          "metadata": {},
          "execution_count": 20
        }
      ],
      "source": [
        "df['Home Status'].value_counts()"
      ]
    },
    {
      "cell_type": "code",
      "execution_count": 21,
      "id": "1e00415b",
      "metadata": {
        "colab": {
          "base_uri": "https://localhost:8080/"
        },
        "id": "1e00415b",
        "outputId": "d0d95f3e-eea4-476d-9a38-f0858afbc0dc"
      },
      "outputs": [
        {
          "output_type": "execute_result",
          "data": {
            "text/plain": [
              "Source Verified    27241\n",
              "Vfied              21106\n",
              "Not Vfied          20799\n",
              "Name: Validation, dtype: int64"
            ]
          },
          "metadata": {},
          "execution_count": 21
        }
      ],
      "source": [
        "df['Validation'].value_counts()"
      ]
    },
    {
      "cell_type": "code",
      "execution_count": 22,
      "id": "e422a0b3",
      "metadata": {
        "id": "e422a0b3"
      },
      "outputs": [],
      "source": [
        "df['Validation'].replace('Vfied','Verified',inplace = True)\n",
        "df['Validation'].replace('Not Vfied','Not Verified',inplace = True)\n"
      ]
    },
    {
      "cell_type": "code",
      "execution_count": 23,
      "id": "845fab6d",
      "metadata": {
        "colab": {
          "base_uri": "https://localhost:8080/"
        },
        "id": "845fab6d",
        "outputId": "96db3223-b369-421d-8e41-2f4fc914f389"
      },
      "outputs": [
        {
          "output_type": "execute_result",
          "data": {
            "text/plain": [
              "Source Verified    27241\n",
              "Verified           21106\n",
              "Not Verified       20799\n",
              "Name: Validation, dtype: int64"
            ]
          },
          "metadata": {},
          "execution_count": 23
        }
      ],
      "source": [
        "df['Validation'].value_counts()"
      ]
    },
    {
      "cell_type": "markdown",
      "id": "15a92006",
      "metadata": {
        "id": "15a92006"
      },
      "source": [
        "# DATA CLEANING (TEST DATA)"
      ]
    },
    {
      "cell_type": "code",
      "execution_count": 23,
      "id": "dea5e391",
      "metadata": {
        "id": "dea5e391"
      },
      "outputs": [],
      "source": [
        ""
      ]
    },
    {
      "cell_type": "code",
      "execution_count": 24,
      "id": "372cc8c4",
      "metadata": {
        "colab": {
          "base_uri": "https://localhost:8080/"
        },
        "id": "372cc8c4",
        "outputId": "b7211dd2-d386-4760-f8e7-44a6e740f1e0"
      },
      "outputs": [
        {
          "output_type": "execute_result",
          "data": {
            "text/plain": [
              "ID                        0\n",
              "Asst_Reg                  0\n",
              "GGGrade                   0\n",
              "Experience                0\n",
              "Validation                0\n",
              "Yearly Income          2425\n",
              "Home Status               0\n",
              "Unpaid 2 years            0\n",
              "Already Defaulted         0\n",
              "Designation             586\n",
              "Debt to Income         1511\n",
              "Postal Code             611\n",
              "Lend Amount               0\n",
              "Deprecatory Records       0\n",
              "Interest Charged          0\n",
              "Usage Rate                0\n",
              "Inquiries                 0\n",
              "Present Balance           0\n",
              "Gross Collection          0\n",
              "Sub GGGrade               0\n",
              "File Status               0\n",
              "State                     0\n",
              "Account Open              0\n",
              "Total Unpaid CL        1814\n",
              "Duration                  0\n",
              "Unpaid Amount          2069\n",
              "Reason                    0\n",
              "Claim Type                0\n",
              "Due Fee                   0\n",
              "dtype: int64"
            ]
          },
          "metadata": {},
          "execution_count": 24
        }
      ],
      "source": [
        "df_test.isnull().sum()"
      ]
    },
    {
      "cell_type": "code",
      "execution_count": 25,
      "id": "12ad8bbe",
      "metadata": {
        "colab": {
          "base_uri": "https://localhost:8080/"
        },
        "id": "12ad8bbe",
        "outputId": "799b3fa3-62b7-481e-bdd4-30dcfb3b4b5c"
      },
      "outputs": [
        {
          "output_type": "execute_result",
          "data": {
            "text/plain": [
              "Index(['ID', 'Asst_Reg', 'Yearly Income', 'Unpaid 2 years',\n",
              "       'Already Defaulted', 'Debt to Income', 'Postal Code', 'Lend Amount',\n",
              "       'Deprecatory Records', 'Interest Charged', 'Usage Rate', 'Inquiries',\n",
              "       'Present Balance', 'Gross Collection', 'Sub GGGrade', 'Account Open',\n",
              "       'Total Unpaid CL', 'Unpaid Amount', 'Due Fee'],\n",
              "      dtype='object')"
            ]
          },
          "metadata": {},
          "execution_count": 25
        }
      ],
      "source": [
        "df_test_num = df_test.select_dtypes(np.number)\n",
        "df_test_num.columns"
      ]
    },
    {
      "cell_type": "code",
      "execution_count": 26,
      "id": "ce0006ba",
      "metadata": {
        "colab": {
          "base_uri": "https://localhost:8080/"
        },
        "id": "ce0006ba",
        "outputId": "798e4c8d-b038-4839-acc7-174329906c46",
        "scrolled": true
      },
      "outputs": [
        {
          "output_type": "execute_result",
          "data": {
            "text/plain": [
              "ID                        0\n",
              "Asst_Reg                  0\n",
              "Yearly Income          2425\n",
              "Unpaid 2 years            0\n",
              "Already Defaulted         0\n",
              "Debt to Income         1511\n",
              "Postal Code             611\n",
              "Lend Amount               0\n",
              "Deprecatory Records       0\n",
              "Interest Charged          0\n",
              "Usage Rate                0\n",
              "Inquiries                 0\n",
              "Present Balance           0\n",
              "Gross Collection          0\n",
              "Sub GGGrade               0\n",
              "Account Open              0\n",
              "Total Unpaid CL        1814\n",
              "Unpaid Amount          2069\n",
              "Due Fee                   0\n",
              "dtype: int64"
            ]
          },
          "metadata": {},
          "execution_count": 26
        }
      ],
      "source": [
        "df_test_num.isnull().sum()"
      ]
    },
    {
      "cell_type": "code",
      "execution_count": 27,
      "id": "67a6c895",
      "metadata": {
        "colab": {
          "base_uri": "https://localhost:8080/"
        },
        "id": "67a6c895",
        "outputId": "5cc85773-ae8c-45f8-fe5f-bccb8d86e578"
      },
      "outputs": [
        {
          "output_type": "execute_result",
          "data": {
            "text/plain": [
              "ID                     0\n",
              "Asst_Reg               0\n",
              "Yearly Income          0\n",
              "Unpaid 2 years         0\n",
              "Already Defaulted      0\n",
              "Debt to Income         0\n",
              "Postal Code            0\n",
              "Lend Amount            0\n",
              "Deprecatory Records    0\n",
              "Interest Charged       0\n",
              "Usage Rate             0\n",
              "Inquiries              0\n",
              "Present Balance        0\n",
              "Gross Collection       0\n",
              "Sub GGGrade            0\n",
              "Account Open           0\n",
              "Total Unpaid CL        0\n",
              "Unpaid Amount          0\n",
              "Due Fee                0\n",
              "dtype: int64"
            ]
          },
          "metadata": {},
          "execution_count": 27
        }
      ],
      "source": [
        "from sklearn.impute import SimpleImputer\n",
        "sim = SimpleImputer(strategy = 'median').fit_transform(df_test_num.values)\n",
        "df_test_num = pd.DataFrame(sim,index = df_test_num.index,columns = df_test_num.columns)\n",
        "\n",
        "df_test_num.isnull().sum()"
      ]
    },
    {
      "cell_type": "code",
      "execution_count": 28,
      "id": "6403e1cb",
      "metadata": {
        "colab": {
          "base_uri": "https://localhost:8080/"
        },
        "id": "6403e1cb",
        "outputId": "d42d731a-cadb-4dd3-f99d-921650891e31"
      },
      "outputs": [
        {
          "output_type": "execute_result",
          "data": {
            "text/plain": [
              "Index(['GGGrade', 'Experience', 'Validation', 'Home Status', 'Designation',\n",
              "       'File Status', 'State', 'Duration', 'Reason', 'Claim Type'],\n",
              "      dtype='object')"
            ]
          },
          "metadata": {},
          "execution_count": 28
        }
      ],
      "source": [
        "df_test_cat = df_test.select_dtypes('O')\n",
        "df_test_cat.columns"
      ]
    },
    {
      "cell_type": "code",
      "execution_count": 29,
      "id": "b723199c",
      "metadata": {
        "colab": {
          "base_uri": "https://localhost:8080/"
        },
        "id": "b723199c",
        "outputId": "a445c44a-181b-47c3-e140-24442d588163"
      },
      "outputs": [
        {
          "output_type": "execute_result",
          "data": {
            "text/plain": [
              "GGGrade          0\n",
              "Experience       0\n",
              "Validation       0\n",
              "Home Status      0\n",
              "Designation    586\n",
              "File Status      0\n",
              "State            0\n",
              "Duration         0\n",
              "Reason           0\n",
              "Claim Type       0\n",
              "dtype: int64"
            ]
          },
          "metadata": {},
          "execution_count": 29
        }
      ],
      "source": [
        "df_test_cat.isnull().sum()"
      ]
    },
    {
      "cell_type": "code",
      "execution_count": 30,
      "id": "68cd4ae5",
      "metadata": {
        "colab": {
          "base_uri": "https://localhost:8080/"
        },
        "id": "68cd4ae5",
        "outputId": "cc3d932a-ad22-4084-bbd9-b000183ecf9c"
      },
      "outputs": [
        {
          "output_type": "execute_result",
          "data": {
            "text/plain": [
              "GGGrade        0\n",
              "Experience     0\n",
              "Validation     0\n",
              "Home Status    0\n",
              "Designation    0\n",
              "File Status    0\n",
              "State          0\n",
              "Duration       0\n",
              "Reason         0\n",
              "Claim Type     0\n",
              "dtype: int64"
            ]
          },
          "metadata": {},
          "execution_count": 30
        }
      ],
      "source": [
        "si = SimpleImputer(strategy = 'most_frequent').fit_transform(df_test_cat.values)\n",
        "df_test_cat = pd.DataFrame(si,index = df_test_cat.index,columns = df_test_cat.columns)\n",
        "\n",
        "df_test_cat.isnull().sum()"
      ]
    },
    {
      "cell_type": "code",
      "execution_count": 31,
      "id": "77fa8831",
      "metadata": {
        "colab": {
          "base_uri": "https://localhost:8080/"
        },
        "id": "77fa8831",
        "outputId": "435b8b8e-5020-4bc6-ae8f-5062b8125738"
      },
      "outputs": [
        {
          "output_type": "execute_result",
          "data": {
            "text/plain": [
              "ID                     0\n",
              "Asst_Reg               0\n",
              "Yearly Income          0\n",
              "Unpaid 2 years         0\n",
              "Already Defaulted      0\n",
              "Debt to Income         0\n",
              "Postal Code            0\n",
              "Lend Amount            0\n",
              "Deprecatory Records    0\n",
              "Interest Charged       0\n",
              "Usage Rate             0\n",
              "Inquiries              0\n",
              "Present Balance        0\n",
              "Gross Collection       0\n",
              "Sub GGGrade            0\n",
              "Account Open           0\n",
              "Total Unpaid CL        0\n",
              "Unpaid Amount          0\n",
              "Due Fee                0\n",
              "GGGrade                0\n",
              "Experience             0\n",
              "Validation             0\n",
              "Home Status            0\n",
              "Designation            0\n",
              "File Status            0\n",
              "State                  0\n",
              "Duration               0\n",
              "Reason                 0\n",
              "Claim Type             0\n",
              "dtype: int64"
            ]
          },
          "metadata": {},
          "execution_count": 31
        }
      ],
      "source": [
        "df_test = pd.concat([df_test_num,df_test_cat],axis = 1)\n",
        "df_test.isnull().sum()"
      ]
    },
    {
      "cell_type": "code",
      "execution_count": 32,
      "id": "fd6e9060",
      "metadata": {
        "colab": {
          "base_uri": "https://localhost:8080/"
        },
        "id": "fd6e9060",
        "outputId": "502b8aa6-94a5-44fa-8d7d-56629d9263fd"
      },
      "outputs": [
        {
          "output_type": "execute_result",
          "data": {
            "text/plain": [
              "MOR??AGE    18912\n",
              "REN?        14992\n",
              "OWN          3592\n",
              "NONE            2\n",
              "OTHER           2\n",
              "Name: Home Status, dtype: int64"
            ]
          },
          "metadata": {},
          "execution_count": 32
        }
      ],
      "source": [
        "df_test['Home Status'].value_counts()\n"
      ]
    },
    {
      "cell_type": "code",
      "execution_count": 33,
      "id": "1c7abce5",
      "metadata": {
        "id": "1c7abce5"
      },
      "outputs": [],
      "source": [
        "df_test['Home Status'].replace('MOR??AGE','MORTGAGE',inplace = True)\n",
        "df_test['Home Status'] = df['Home Status'].str.replace('?','T')"
      ]
    },
    {
      "cell_type": "code",
      "execution_count": 34,
      "id": "23106c1f",
      "metadata": {
        "colab": {
          "base_uri": "https://localhost:8080/"
        },
        "id": "23106c1f",
        "outputId": "4161373a-4131-4178-9101-c0e67d1316b5"
      },
      "outputs": [
        {
          "output_type": "execute_result",
          "data": {
            "text/plain": [
              "Source Verified    14646\n",
              "Not Vfied          11488\n",
              "Vfied              11366\n",
              "Name: Validation, dtype: int64"
            ]
          },
          "metadata": {},
          "execution_count": 34
        }
      ],
      "source": [
        "df_test['Validation'].value_counts()"
      ]
    },
    {
      "cell_type": "code",
      "execution_count": 35,
      "id": "3f9ec2e4",
      "metadata": {
        "id": "3f9ec2e4"
      },
      "outputs": [],
      "source": [
        "df_test['Validation'].replace('Vfied','Verified',inplace = True)\n",
        "df_test['Validation'].replace('Not Vfied','Not Verified',inplace = True)\n"
      ]
    },
    {
      "cell_type": "code",
      "execution_count": 36,
      "id": "a21ea5e5",
      "metadata": {
        "id": "a21ea5e5"
      },
      "outputs": [],
      "source": [
        "df['Loan/No Loan'] = df['Loan/No Loan'].astype('int')\n"
      ]
    },
    {
      "cell_type": "code",
      "execution_count": 37,
      "id": "bff2690e",
      "metadata": {
        "colab": {
          "base_uri": "https://localhost:8080/",
          "height": 575
        },
        "id": "bff2690e",
        "outputId": "265e01f8-7134-41fd-9348-d40b249fc629"
      },
      "outputs": [
        {
          "output_type": "display_data",
          "data": {
            "text/plain": [
              "<Figure size 1440x720 with 1 Axes>"
            ],
            "image/png": "[encoded data removed]"
          },
          "metadata": {}
        }
      ],
      "source": [
        "fig, axs = plt.subplots(figsize=(20, 10))\n",
        "sizes = [df['Loan/No Loan'][df['Loan/No Loan']==1].count(), df['Loan/No Loan'][df['Loan/No Loan']==0].count()]\n",
        "axs.pie(sizes, explode=(0, 0.1), labels=['Non-defaulter', 'Defaulter'], autopct='%1.1f%%',shadow=True)\n",
        "axs.axis('equal')\n",
        "plt.title(\"Defaulter Proportion\", size = 25)\n",
        "plt.show()"
      ]
    },
    {
      "cell_type": "code",
      "execution_count": 37,
      "id": "303e3a00",
      "metadata": {
        "id": "303e3a00",
        "scrolled": true
      },
      "outputs": [],
      "source": [
        ""
      ]
    },
    {
      "cell_type": "code",
      "execution_count": 38,
      "id": "75f98e87",
      "metadata": {
        "colab": {
          "base_uri": "https://localhost:8080/",
          "height": 827
        },
        "id": "75f98e87",
        "outputId": "0da91da1-1dcc-4842-b25c-c744c2532bbf",
        "scrolled": true
      },
      "outputs": [
        {
          "output_type": "display_data",
          "data": {
            "text/plain": [
              "<Figure size 1080x1008 with 12 Axes>"
            ],
            "image/png": "[encoded data removed]"
          },
          "metadata": {
            "needs_background": "light"
          }
        }
      ],
      "source": [
        "fig,ax = plt.subplots(nrows = 4,ncols = 3,figsize = (15,14))\n",
        "df_num = df.select_dtypes(np.number)\n",
        "for i,j in zip(df_num.columns,ax.flatten()):\n",
        "    sns.histplot(df_num[i],ax = j)\n",
        "    \n",
        "    \n",
        "plt.show()"
      ]
    },
    {
      "cell_type": "code",
      "execution_count": 38,
      "id": "b8f7fe26",
      "metadata": {
        "id": "b8f7fe26"
      },
      "outputs": [],
      "source": [
        ""
      ]
    },
    {
      "cell_type": "code",
      "execution_count": 39,
      "id": "7143e3fd",
      "metadata": {
        "colab": {
          "base_uri": "https://localhost:8080/",
          "height": 648
        },
        "id": "7143e3fd",
        "outputId": "6a1cef9f-8b05-4f30-b3fc-ef202b89dc2e"
      },
      "outputs": [
        {
          "output_type": "display_data",
          "data": {
            "text/plain": [
              "<Figure size 2160x1080 with 2 Axes>"
            ],
            "image/png": "[encoded data removed]"
          },
          "metadata": {
            "needs_background": "light"
          }
        }
      ],
      "source": [
        "plt.figure(figsize = (30,15))\n",
        "\n",
        "sns.heatmap(df.corr(),annot = True)\n",
        "\n",
        "plt.show()"
      ]
    },
    {
      "cell_type": "code",
      "execution_count": 40,
      "id": "d228dcb4",
      "metadata": {
        "id": "d228dcb4"
      },
      "outputs": [],
      "source": [
        "#Dropping unwanted columns \n",
        "\n",
        "\n"
      ]
    },
    {
      "cell_type": "code",
      "execution_count": 40,
      "id": "d36eb14b",
      "metadata": {
        "id": "d36eb14b"
      },
      "outputs": [],
      "source": [
        ""
      ]
    },
    {
      "cell_type": "code",
      "execution_count": 40,
      "id": "54eda556",
      "metadata": {
        "id": "54eda556"
      },
      "outputs": [],
      "source": [
        ""
      ]
    },
    {
      "cell_type": "code",
      "execution_count": 40,
      "id": "15e91623",
      "metadata": {
        "id": "15e91623"
      },
      "outputs": [],
      "source": [
        ""
      ]
    },
    {
      "cell_type": "code",
      "execution_count": 41,
      "id": "zh9GlJSu_uRP",
      "metadata": {
        "colab": {
          "base_uri": "https://localhost:8080/"
        },
        "id": "zh9GlJSu_uRP",
        "outputId": "c4b6e5c5-f13c-43ee-8cc0-fdb01f81e7eb"
      },
      "outputs": [
        {
          "output_type": "execute_result",
          "data": {
            "text/plain": [
              "Index(['ID', 'Asst_Reg', 'Yearly Income', 'Unpaid 2 years',\n",
              "       'Already Defaulted', 'Debt to Income', 'Postal Code', 'Lend Amount',\n",
              "       'Deprecatory Records', 'Interest Charged', 'Usage Rate', 'Inquiries',\n",
              "       'Present Balance', 'Gross Collection', 'Sub GGGrade', 'Account Open',\n",
              "       'Total Unpaid CL', 'Unpaid Amount', 'Due Fee', 'GGGrade', 'Experience',\n",
              "       'Validation', 'Home Status', 'Designation', 'File Status', 'State',\n",
              "       'Duration', 'Reason', 'Claim Type', 'Loan/No Loan'],\n",
              "      dtype='object')"
            ]
          },
          "metadata": {},
          "execution_count": 41
        }
      ],
      "source": [
        "df.columns"
      ]
    },
    {
      "cell_type": "code",
      "execution_count": 42,
      "id": "y7qfz4Z8AiqV",
      "metadata": {
        "id": "y7qfz4Z8AiqV"
      },
      "outputs": [],
      "source": [
        "y = df['Loan/No Loan']\n",
        "features = df.drop(['Loan/No Loan','ID','Postal Code','State'],axis = 1)\n",
        "\n",
        "features = features.columns.to_list()\n",
        "\n",
        "X = df[features]\n",
        "\n",
        "from sklearn.preprocessing import OrdinalEncoder\n",
        "\n",
        "encoder = OrdinalEncoder()\n",
        "\n",
        "\n",
        "var = encoder.fit_transform(X.values)\n",
        "X = pd.DataFrame(var,index = X.index,columns = X.columns)\n",
        "\n",
        "\n",
        "X_test = df_test[features]\n",
        "\n",
        "var2 = encoder.fit_transform(X_test.values)\n",
        "\n",
        "X_test = pd.DataFrame(var2,index = X_test.index,columns = X_test.columns)\n",
        "\n",
        "\n"
      ]
    },
    {
      "cell_type": "code",
      "execution_count": 43,
      "id": "jupa3QQXbNiX",
      "metadata": {
        "colab": {
          "base_uri": "https://localhost:8080/",
          "height": 271
        },
        "id": "jupa3QQXbNiX",
        "outputId": "c0cc14cf-8763-431f-a20b-7690b4ef61b5"
      },
      "outputs": [
        {
          "output_type": "execute_result",
          "data": {
            "text/plain": [
              "   Asst_Reg  Yearly Income  Unpaid 2 years  Already Defaulted  Debt to Income  \\\n",
              "0    3543.0         5630.0             0.0                0.0           709.0   \n",
              "1   32278.0         1682.0             0.0                0.0           498.0   \n",
              "2   34948.0         1404.0             0.0                0.0          1445.0   \n",
              "\n",
              "   Lend Amount  Deprecatory Records  Interest Charged  Usage Rate  Inquiries  \\\n",
              "0        934.0                  0.0             739.0       517.0        3.0   \n",
              "1        844.0                  0.0             194.0       598.0        0.0   \n",
              "2        352.0                  0.0            1435.0       351.0        0.0   \n",
              "\n",
              "   ...  Due Fee  GGGrade  Experience  Validation  Home Status  Designation  \\\n",
              "0  ...      0.0      1.0        10.0         2.0          0.0      10477.0   \n",
              "1  ...      0.0      3.0         6.0         1.0          4.0       3420.0   \n",
              "2  ...      0.0      2.0         9.0         1.0          4.0      29413.0   \n",
              "\n",
              "   File Status  Duration  Reason  Claim Type  \n",
              "0          0.0       0.0     3.0         0.0  \n",
              "1          1.0       1.0     3.0         0.0  \n",
              "2          1.0       1.0     6.0         0.0  \n",
              "\n",
              "[3 rows x 26 columns]"
            ],
            "text/html": [
              "\n",
              "  <div id=\"df-a5c68683-61ec-4e8a-96c1-ae1b5d2104e7\">\n",
              "    <div class=\"colab-df-container\">\n",
              "      <div>\n",
              "<style scoped>\n",
              "    .dataframe tbody tr th:only-of-type {\n",
              "        vertical-align: middle;\n",
              "    }\n",
              "\n",
              "    .dataframe tbody tr th {\n",
              "        vertical-align: top;\n",
              "    }\n",
              "\n",
              "    .dataframe thead th {\n",
              "        text-align: right;\n",
              "    }\n",
              "</style>\n",
              "<table border=\"1\" class=\"dataframe\">\n",
              "  <thead>\n",
              "    <tr style=\"text-align: right;\">\n",
              "      <th></th>\n",
              "      <th>Asst_Reg</th>\n",
              "      <th>Yearly Income</th>\n",
              "      <th>Unpaid 2 years</th>\n",
              "      <th>Already Defaulted</th>\n",
              "      <th>Debt to Income</th>\n",
              "      <th>Lend Amount</th>\n",
              "      <th>Deprecatory Records</th>\n",
              "      <th>Interest Charged</th>\n",
              "      <th>Usage Rate</th>\n",
              "      <th>Inquiries</th>\n",
              "      <th>...</th>\n",
              "      <th>Due Fee</th>\n",
              "      <th>GGGrade</th>\n",
              "      <th>Experience</th>\n",
              "      <th>Validation</th>\n",
              "      <th>Home Status</th>\n",
              "      <th>Designation</th>\n",
              "      <th>File Status</th>\n",
              "      <th>Duration</th>\n",
              "      <th>Reason</th>\n",
              "      <th>Claim Type</th>\n",
              "    </tr>\n",
              "  </thead>\n",
              "  <tbody>\n",
              "    <tr>\n",
              "      <th>0</th>\n",
              "      <td>3543.0</td>\n",
              "      <td>5630.0</td>\n",
              "      <td>0.0</td>\n",
              "      <td>0.0</td>\n",
              "      <td>709.0</td>\n",
              "      <td>934.0</td>\n",
              "      <td>0.0</td>\n",
              "      <td>739.0</td>\n",
              "      <td>517.0</td>\n",
              "      <td>3.0</td>\n",
              "      <td>...</td>\n",
              "      <td>0.0</td>\n",
              "      <td>1.0</td>\n",
              "      <td>10.0</td>\n",
              "      <td>2.0</td>\n",
              "      <td>0.0</td>\n",
              "      <td>10477.0</td>\n",
              "      <td>0.0</td>\n",
              "      <td>0.0</td>\n",
              "      <td>3.0</td>\n",
              "      <td>0.0</td>\n",
              "    </tr>\n",
              "    <tr>\n",
              "      <th>1</th>\n",
              "      <td>32278.0</td>\n",
              "      <td>1682.0</td>\n",
              "      <td>0.0</td>\n",
              "      <td>0.0</td>\n",
              "      <td>498.0</td>\n",
              "      <td>844.0</td>\n",
              "      <td>0.0</td>\n",
              "      <td>194.0</td>\n",
              "      <td>598.0</td>\n",
              "      <td>0.0</td>\n",
              "      <td>...</td>\n",
              "      <td>0.0</td>\n",
              "      <td>3.0</td>\n",
              "      <td>6.0</td>\n",
              "      <td>1.0</td>\n",
              "      <td>4.0</td>\n",
              "      <td>3420.0</td>\n",
              "      <td>1.0</td>\n",
              "      <td>1.0</td>\n",
              "      <td>3.0</td>\n",
              "      <td>0.0</td>\n",
              "    </tr>\n",
              "    <tr>\n",
              "      <th>2</th>\n",
              "      <td>34948.0</td>\n",
              "      <td>1404.0</td>\n",
              "      <td>0.0</td>\n",
              "      <td>0.0</td>\n",
              "      <td>1445.0</td>\n",
              "      <td>352.0</td>\n",
              "      <td>0.0</td>\n",
              "      <td>1435.0</td>\n",
              "      <td>351.0</td>\n",
              "      <td>0.0</td>\n",
              "      <td>...</td>\n",
              "      <td>0.0</td>\n",
              "      <td>2.0</td>\n",
              "      <td>9.0</td>\n",
              "      <td>1.0</td>\n",
              "      <td>4.0</td>\n",
              "      <td>29413.0</td>\n",
              "      <td>1.0</td>\n",
              "      <td>1.0</td>\n",
              "      <td>6.0</td>\n",
              "      <td>0.0</td>\n",
              "    </tr>\n",
              "  </tbody>\n",
              "</table>\n",
              "<p>3 rows × 26 columns</p>\n",
              "</div>\n",
              "      <button class=\"colab-df-convert\" onclick=\"convertToInteractive('df-a5c68683-61ec-4e8a-96c1-ae1b5d2104e7')\"\n",
              "              title=\"Convert this dataframe to an interactive table.\"\n",
              "              style=\"display:none;\">\n",
              "        \n",
              "  <svg xmlns=\"http://www.w3.org/2000/svg\" height=\"24px\"viewBox=\"0 0 24 24\"\n",
              "       width=\"24px\">\n",
              "    <path d=\"M0 0h24v24H0V0z\" fill=\"none\"/>\n",
              "    <path d=\"M18.56 5.44l.94 2.06.94-2.06 2.06-.94-2.06-.94-.94-2.06-.94 2.06-2.06.94zm-11 1L8.5 8.5l.94-2.06 2.06-.94-2.06-.94L8.5 2.5l-.94 2.06-2.06.94zm10 10l.94 2.06.94-2.06 2.06-.94-2.06-.94-.94-2.06-.94 2.06-2.06.94z\"/><path d=\"M17.41 7.96l-1.37-1.37c-.4-.4-.92-.59-1.43-.59-.52 0-1.04.2-1.43.59L10.3 9.45l-7.72 7.72c-.78.78-.78 2.05 0 2.83L4 21.41c.39.39.9.59 1.41.59.51 0 1.02-.2 1.41-.59l7.78-7.78 2.81-2.81c.8-.78.8-2.07 0-2.86zM5.41 20L4 18.59l7.72-7.72 1.47 1.35L5.41 20z\"/>\n",
              "  </svg>\n",
              "      </button>\n",
              "      \n",
              "  <style>\n",
              "    .colab-df-container {\n",
              "      display:flex;\n",
              "      flex-wrap:wrap;\n",
              "      gap: 12px;\n",
              "    }\n",
              "\n",
              "    .colab-df-convert {\n",
              "      background-color: #E8F0FE;\n",
              "      border: none;\n",
              "      border-radius: 50%;\n",
              "      cursor: pointer;\n",
              "      display: none;\n",
              "      fill: #1967D2;\n",
              "      height: 32px;\n",
              "      padding: 0 0 0 0;\n",
              "      width: 32px;\n",
              "    }\n",
              "\n",
              "    .colab-df-convert:hover {\n",
              "      background-color: #E2EBFA;\n",
              "      box-shadow: 0px 1px 2px rgba(60, 64, 67, 0.3), 0px 1px 3px 1px rgba(60, 64, 67, 0.15);\n",
              "      fill: #174EA6;\n",
              "    }\n",
              "\n",
              "    [theme=dark] .colab-df-convert {\n",
              "      background-color: #3B4455;\n",
              "      fill: #D2E3FC;\n",
              "    }\n",
              "\n",
              "    [theme=dark] .colab-df-convert:hover {\n",
              "      background-color: #434B5C;\n",
              "      box-shadow: 0px 1px 3px 1px rgba(0, 0, 0, 0.15);\n",
              "      filter: drop-shadow(0px 1px 2px rgba(0, 0, 0, 0.3));\n",
              "      fill: #FFFFFF;\n",
              "    }\n",
              "  </style>\n",
              "\n",
              "      <script>\n",
              "        const buttonEl =\n",
              "          document.querySelector('#df-a5c68683-61ec-4e8a-96c1-ae1b5d2104e7 button.colab-df-convert');\n",
              "        buttonEl.style.display =\n",
              "          google.colab.kernel.accessAllowed ? 'block' : 'none';\n",
              "\n",
              "        async function convertToInteractive(key) {\n",
              "          const element = document.querySelector('#df-a5c68683-61ec-4e8a-96c1-ae1b5d2104e7');\n",
              "          const dataTable =\n",
              "            await google.colab.kernel.invokeFunction('convertToInteractive',\n",
              "                                                     [key], {});\n",
              "          if (!dataTable) return;\n",
              "\n",
              "          const docLinkHtml = 'Like what you see? Visit the ' +\n",
              "            '<a target=\"_blank\" href=https://colab.research.google.com/notebooks/data_table.ipynb>data table notebook</a>'\n",
              "            + ' to learn more about interactive tables.';\n",
              "          element.innerHTML = '';\n",
              "          dataTable['output_type'] = 'display_data';\n",
              "          await google.colab.output.renderOutput(dataTable, element);\n",
              "          const docLink = document.createElement('div');\n",
              "          docLink.innerHTML = docLinkHtml;\n",
              "          element.appendChild(docLink);\n",
              "        }\n",
              "      </script>\n",
              "    </div>\n",
              "  </div>\n",
              "  "
            ]
          },
          "metadata": {},
          "execution_count": 43
        }
      ],
      "source": [
        "X.head(3)"
      ]
    },
    {
      "cell_type": "code",
      "execution_count": 44,
      "id": "517f8d8b",
      "metadata": {
        "colab": {
          "base_uri": "https://localhost:8080/"
        },
        "id": "517f8d8b",
        "outputId": "19f1be00-f560-4526-9f2a-bd79a66ddd01"
      },
      "outputs": [
        {
          "output_type": "stream",
          "name": "stdout",
          "text": [
            "0.9999855378474533\n"
          ]
        }
      ],
      "source": [
        "from sklearn.ensemble import RandomForestClassifier\n",
        "model = RandomForestClassifier(random_state=1,n_jobs = -1)\n",
        "model.fit(X, y)\n",
        "predictions = model.predict(X_test)\n",
        "score = model.score(X,y)\n",
        "print(score)\n",
        "\n",
        "\n",
        "\n"
      ]
    },
    {
      "cell_type": "code",
      "execution_count": 45,
      "id": "LsrzmnrvbrPC",
      "metadata": {
        "colab": {
          "base_uri": "https://localhost:8080/"
        },
        "id": "LsrzmnrvbrPC",
        "outputId": "4b2ee9e4-d249-40ae-dcec-31d99aa6d1f9"
      },
      "outputs": [
        {
          "output_type": "stream",
          "name": "stdout",
          "text": [
            "['Asst_Reg', 'Yearly Income', 'Debt to Income', 'Lend Amount', 'Interest Charged', 'Usage Rate', 'Present Balance', 'Total Unpaid CL', 'Unpaid Amount', 'Designation']\n"
          ]
        }
      ],
      "source": [
        "from sklearn.feature_selection import RFE\n",
        "\n",
        "rfe_model = RFE(estimator = RandomForestClassifier(random_state = 1),n_features_to_select = 10)\n",
        "\n",
        "rfe_model = rfe_model.fit(X,y)\n",
        "\n",
        "df_rfe = pd.DataFrame()\n",
        "\n",
        "df_rfe['features'] = X.columns\n",
        "\n",
        "df_rfe['ranking'] = rfe_model.ranking_ \n",
        "\n",
        "top = df_rfe[df_rfe['ranking'] == 1]\n",
        "\n",
        "top = top.features.to_list()\n",
        "\n",
        "print(top)"
      ]
    },
    {
      "cell_type": "code",
      "execution_count": 46,
      "id": "2CbJjt-yg5gM",
      "metadata": {
        "id": "2CbJjt-yg5gM"
      },
      "outputs": [],
      "source": [
        "#Selecting only features from RFE (TOP 10 )\n",
        "\n",
        "x_top = X[top]\n",
        "x_test = X_test[top]\n",
        "\n"
      ]
    },
    {
      "cell_type": "code",
      "execution_count": 47,
      "id": "yqTZjFM4hIz6",
      "metadata": {
        "colab": {
          "base_uri": "https://localhost:8080/"
        },
        "id": "yqTZjFM4hIz6",
        "outputId": "40bf66b7-8185-4498-e4a6-78e6a160d99d"
      },
      "outputs": [
        {
          "output_type": "stream",
          "name": "stdout",
          "text": [
            "0.9999710756949064\n"
          ]
        }
      ],
      "source": [
        "model_top = RandomForestClassifier(random_state=1,n_jobs = -1)\n",
        "model_top.fit(x_top, y)\n",
        "predictions = model_top.predict(x_test)\n",
        "score_top = model_top.score(x_top,y)\n",
        "print(score_top)"
      ]
    },
    {
      "cell_type": "markdown",
      "id": "d7cd560a",
      "metadata": {
        "id": "d7cd560a"
      },
      "source": [
        "from sklearn.model_selection import GridSearchCV\n",
        "\n",
        "tuned_params = [{'criterion':['gini','entropy'],'max_depth': range(2,10),'min_samples_split' : range(2,10)}]\n",
        "\n",
        "grid_rf = GridSearchCV(estimator = RandomForestClassifier(random_state = 1),param_grid = tuned_params,cv = 5)\n",
        "\n",
        "grid_rf.fit(x_top,y)"
      ]
    },
    {
      "cell_type": "markdown",
      "id": "a404be73",
      "metadata": {
        "id": "a404be73"
      },
      "source": [
        "grid_rf.best_params_"
      ]
    },
    {
      "cell_type": "code",
      "execution_count": 48,
      "id": "b_tPUYLvQguw",
      "metadata": {
        "id": "b_tPUYLvQguw",
        "colab": {
          "base_uri": "https://localhost:8080/"
        },
        "outputId": "1e0c57b2-097a-47a6-9ee5-f38796d3dac2"
      },
      "outputs": [
        {
          "output_type": "stream",
          "name": "stdout",
          "text": [
            "0.8380238914760073\n"
          ]
        }
      ],
      "source": [
        "model_final = RandomForestClassifier(criterion = 'gini', max_depth = 9, min_samples_split = 6, random_state=1,n_jobs = -1)\n",
        "model_final.fit(x_top, y)\n",
        "predictions_final = model_final.predict(x_test)\n",
        "score_final = model_final.score(x_top,y)\n",
        "print(score_final)\n"
      ]
    },
    {
      "cell_type": "code",
      "execution_count": 49,
      "id": "DbPRb0MpDpgB",
      "metadata": {
        "id": "DbPRb0MpDpgB"
      },
      "outputs": [],
      "source": [
        "output = pd.DataFrame({'ID': df_test.ID,'Loan/No Loan': predictions_final})\n",
        "output.to_csv('submission_loan_final1.csv', index=False)"
      ]
    },
    {
      "cell_type": "code",
      "execution_count": 50,
      "id": "726de0a2",
      "metadata": {
        "id": "726de0a2",
        "colab": {
          "base_uri": "https://localhost:8080/"
        },
        "outputId": "d13ff51e-dadb-405b-cc03-7368f0156a19"
      },
      "outputs": [
        {
          "output_type": "stream",
          "name": "stdout",
          "text": [
            "1.0\n"
          ]
        }
      ],
      "source": [
        "from sklearn.tree import DecisionTreeClassifier\n",
        "\n",
        "model_dtc = DecisionTreeClassifier(random_state=1)\n",
        "\n",
        "model_dtc.fit(x_top, y)\n",
        "predictions_dtc = model_dtc.predict(x_test)\n",
        "score_dtc = model_dtc.score(x_top,y)\n",
        "print(score_dtc)"
      ]
    },
    {
      "cell_type": "code",
      "execution_count": 50,
      "id": "1fGavAldSM9D",
      "metadata": {
        "id": "1fGavAldSM9D"
      },
      "outputs": [],
      "source": [
        ""
      ]
    },
    {
      "cell_type": "markdown",
      "id": "5a626666",
      "metadata": {
        "id": "5a626666"
      },
      "source": [
        "\n",
        "\n",
        "tuned_params = [{'criterion':['gini','entropy'],'max_depth': range(2,10),'min_samples_split' : range(2,10)}]\n",
        "\n",
        "grid_dtc = GridSearchCV(estimator = DecisionTreeClassifier(random_state = 1),param_grid = tuned_params,cv = 5)\n",
        "\n",
        "grid_dtc.fit(x_top,y)"
      ]
    },
    {
      "cell_type": "markdown",
      "id": "f19a146c",
      "metadata": {
        "id": "f19a146c"
      },
      "source": [
        "\n",
        "grid_dtc.best_params_"
      ]
    },
    {
      "cell_type": "code",
      "execution_count": 51,
      "id": "SjyFyGWSVGTE",
      "metadata": {
        "id": "SjyFyGWSVGTE",
        "colab": {
          "base_uri": "https://localhost:8080/"
        },
        "outputId": "beb0cc02-d329-4ea7-8eb5-8c1ed2b2c59a"
      },
      "outputs": [
        {
          "output_type": "stream",
          "name": "stdout",
          "text": [
            "0.8415092702397825\n"
          ]
        }
      ],
      "source": [
        "model_dtc_tuned = DecisionTreeClassifier(criterion = 'gini',max_depth = 9, min_samples_split = 3,random_state=1)\n",
        "\n",
        "model_dtc_tuned.fit(x_top, y)\n",
        "predictions_dtc_tuned = model_dtc_tuned.predict(x_test)\n",
        "score_dtc_tuned = model_dtc_tuned.score(x_top,y)\n",
        "print(score_dtc_tuned)"
      ]
    },
    {
      "cell_type": "code",
      "execution_count": 52,
      "id": "xgWbbBmjVbhk",
      "metadata": {
        "id": "xgWbbBmjVbhk"
      },
      "outputs": [],
      "source": [
        "output_2 = pd.DataFrame({'ID': df_test.ID,'Loan/No Loan': predictions_dtc_tuned})\n",
        "output_2.to_csv('submission_loan_dtc_final.csv', index=False)"
      ]
    },
    {
      "cell_type": "code",
      "execution_count": 53,
      "id": "3QeJxXyGWVse",
      "metadata": {
        "id": "3QeJxXyGWVse",
        "colab": {
          "base_uri": "https://localhost:8080/"
        },
        "outputId": "e8cd5a7a-1829-47f0-abd1-27c1a7da06fe"
      },
      "outputs": [
        {
          "output_type": "stream",
          "name": "stdout",
          "text": [
            "0.8261793885401904\n"
          ]
        }
      ],
      "source": [
        "from sklearn.linear_model import LogisticRegression\n",
        "\n",
        "model_log= LogisticRegression(random_state=1)\n",
        "\n",
        "model_log.fit(x_top, y)\n",
        "predictions_log = model_log.predict(x_test)\n",
        "score_log = model_log.score(x_top,y)\n",
        "print(score_log)"
      ]
    },
    {
      "cell_type": "markdown",
      "id": "6d08e597",
      "metadata": {
        "id": "6d08e597"
      },
      "source": [
        "solvers = ['newton-cg', 'lbfgs', 'liblinear']\n",
        "penalty = ['l2']\n",
        "c_values = [100, 10, 1.0, 0.1, 0.01]\n",
        "tuned_params = dict(solver=solvers,penalty=penalty,C=c_values)\n",
        "\n",
        "\n",
        "grid_log = GridSearchCV(estimator = LogisticRegression(random_state = 1),param_grid = tuned_params,cv = 5)\n",
        "\n",
        "grid_log.fit(x_top,y)"
      ]
    },
    {
      "cell_type": "markdown",
      "id": "88d940e9",
      "metadata": {
        "id": "88d940e9"
      },
      "source": [
        "grid_log.best_params_"
      ]
    },
    {
      "cell_type": "code",
      "execution_count": 54,
      "id": "V2XIP1vuWVzV",
      "metadata": {
        "id": "V2XIP1vuWVzV",
        "colab": {
          "base_uri": "https://localhost:8080/"
        },
        "outputId": "0d1c80fa-cf1d-42bb-8af4-2b48af7136f7"
      },
      "outputs": [
        {
          "output_type": "stream",
          "name": "stdout",
          "text": [
            "0.8272495878286524\n"
          ]
        }
      ],
      "source": [
        "model_log_tuned = LogisticRegression(penalty = 'l2',C = 0.01, solver = 'newton-cg',random_state=1)\n",
        "\n",
        "model_log_tuned.fit(x_top, y)\n",
        "predictions_log_tuned = model_log_tuned.predict(x_test)\n",
        "score_log_tuned = model_log_tuned.score(x_top,y)\n",
        "print(score_log_tuned)"
      ]
    },
    {
      "cell_type": "code",
      "execution_count": 55,
      "id": "hbHMCHqhafi2",
      "metadata": {
        "id": "hbHMCHqhafi2"
      },
      "outputs": [],
      "source": [
        "output_3 = pd.DataFrame({'ID': df_test.ID, 'Loan/No Loan': predictions_log_tuned})\n",
        "output_3.to_csv('submission_loan_log_final.csv', index=False)"
      ]
    }
  ],
  "metadata": {
    "colab": {
      "collapsed_sections": [],
      "name": "Loan_defaulter_hackathon_final2.ipynb",
      "provenance": []
    },
    "kernelspec": {
      "display_name": "Python 3 (ipykernel)",
      "language": "python",
      "name": "python3"
    },
    "language_info": {
      "codemirror_mode": {
        "name": "ipython",
        "version": 3
      },
      "file_extension": ".py",
      "mimetype": "text/x-python",
      "name": "python",
      "nbconvert_exporter": "python",
      "pygments_lexer": "ipython3",
      "version": "3.9.7"
    }
  },
  "nbformat": 4,
  "nbformat_minor": 5
}