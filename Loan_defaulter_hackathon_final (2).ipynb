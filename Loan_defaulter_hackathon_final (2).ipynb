{
  "cells": [
    {
      "cell_type": "code",
      "execution_count": null,
      "id": "9f49c0b8",
      "metadata": {
        "id": "9f49c0b8"
      },
      "outputs": [],
      "source": [
        "import pandas as pd\n",
        "import numpy as np\n",
        "import matplotlib.pyplot as plt\n",
        "import seaborn as sns\n",
        "import warnings\n",
        "warnings.filterwarnings('ignore')\n"
      ]
    },
    {
      "cell_type": "code",
      "execution_count": null,
      "id": "0880e5e5",
      "metadata": {
        "colab": {
          "base_uri": "https://localhost:8080/",
          "height": 421
        },
        "id": "0880e5e5",
        "outputId": "3bc8b8dc-9bbc-483f-a86f-6e2031f3d64d"
      },
      "outputs": [
        {
          "output_type": "execute_result",
          "data": {
            "text/plain": [
              "       ID  Asst_Reg GGGrade Experience       Validation  Yearly Income  \\\n",
              "0   95074    421802      II     >10yrs            Vfied      633600.00   \n",
              "1  134131   3964312      IV       7yrs  Source Verified       85483.20   \n",
              "2   92602   4247560     III       <1yr  Source Verified       79200.00   \n",
              "3   22591    197179     III       <1yr            Vfied       61600.00   \n",
              "4  125060   4646684       V       2yrs  Source Verified       68053.92   \n",
              "\n",
              "  Home Status  Unpaid 2 years  Already Defaulted       Designation  ...  \\\n",
              "0    MOR??AGE               0                  0   GLENDALE NISSAN  ...   \n",
              "1        REN?               0                  0  Business Teacher  ...   \n",
              "2        REN?               0                  0            driver  ...   \n",
              "3        REN?               0                  0          AvePoint  ...   \n",
              "4        REN?               0                  0       Lead Tester  ...   \n",
              "\n",
              "   File Status       State  Account Open  Total Unpaid CL  Duration  \\\n",
              "0   fully paid  California            17          58598.0   3 years   \n",
              "1        whole          NC            15          18924.0   5 years   \n",
              "2        whole     Florida             7          15604.0   5 years   \n",
              "3   fully paid   NewJersey             9          22410.0   3 years   \n",
              "4   fully paid          LA            10          36022.0   5 years   \n",
              "\n",
              "   Unpaid Amount               Reason  Claim Type  Due Fee  Loan/No Loan  \n",
              "0       31216.05  debt  consolidation           I      0.0             0  \n",
              "1       11660.49  debt  consolidation           I      0.0             0  \n",
              "2        5637.87      major  purchase           I      0.0             0  \n",
              "3       15607.17      major  purchase           I      0.0             1  \n",
              "4       27472.86  debt  consolidation           I      0.0             0  \n",
              "\n",
              "[5 rows x 30 columns]"
            ],
            "text/html": [
              "\n",
              "  <div id=\"df-199c30d0-b432-473d-8703-9fe087bd0e90\">\n",
              "    <div class=\"colab-df-container\">\n",
              "      <div>\n",
              "<style scoped>\n",
              "    .dataframe tbody tr th:only-of-type {\n",
              "        vertical-align: middle;\n",
              "    }\n",
              "\n",
              "    .dataframe tbody tr th {\n",
              "        vertical-align: top;\n",
              "    }\n",
              "\n",
              "    .dataframe thead th {\n",
              "        text-align: right;\n",
              "    }\n",
              "</style>\n",
              "<table border=\"1\" class=\"dataframe\">\n",
              "  <thead>\n",
              "    <tr style=\"text-align: right;\">\n",
              "      <th></th>\n",
              "      <th>ID</th>\n",
              "      <th>Asst_Reg</th>\n",
              "      <th>GGGrade</th>\n",
              "      <th>Experience</th>\n",
              "      <th>Validation</th>\n",
              "      <th>Yearly Income</th>\n",
              "      <th>Home Status</th>\n",
              "      <th>Unpaid 2 years</th>\n",
              "      <th>Already Defaulted</th>\n",
              "      <th>Designation</th>\n",
              "      <th>...</th>\n",
              "      <th>File Status</th>\n",
              "      <th>State</th>\n",
              "      <th>Account Open</th>\n",
              "      <th>Total Unpaid CL</th>\n",
              "      <th>Duration</th>\n",
              "      <th>Unpaid Amount</th>\n",
              "      <th>Reason</th>\n",
              "      <th>Claim Type</th>\n",
              "      <th>Due Fee</th>\n",
              "      <th>Loan/No Loan</th>\n",
              "    </tr>\n",
              "  </thead>\n",
              "  <tbody>\n",
              "    <tr>\n",
              "      <th>0</th>\n",
              "      <td>95074</td>\n",
              "      <td>421802</td>\n",
              "      <td>II</td>\n",
              "      <td>&gt;10yrs</td>\n",
              "      <td>Vfied</td>\n",
              "      <td>633600.00</td>\n",
              "      <td>MOR??AGE</td>\n",
              "      <td>0</td>\n",
              "      <td>0</td>\n",
              "      <td>GLENDALE NISSAN</td>\n",
              "      <td>...</td>\n",
              "      <td>fully paid</td>\n",
              "      <td>California</td>\n",
              "      <td>17</td>\n",
              "      <td>58598.0</td>\n",
              "      <td>3 years</td>\n",
              "      <td>31216.05</td>\n",
              "      <td>debt  consolidation</td>\n",
              "      <td>I</td>\n",
              "      <td>0.0</td>\n",
              "      <td>0</td>\n",
              "    </tr>\n",
              "    <tr>\n",
              "      <th>1</th>\n",
              "      <td>134131</td>\n",
              "      <td>3964312</td>\n",
              "      <td>IV</td>\n",
              "      <td>7yrs</td>\n",
              "      <td>Source Verified</td>\n",
              "      <td>85483.20</td>\n",
              "      <td>REN?</td>\n",
              "      <td>0</td>\n",
              "      <td>0</td>\n",
              "      <td>Business Teacher</td>\n",
              "      <td>...</td>\n",
              "      <td>whole</td>\n",
              "      <td>NC</td>\n",
              "      <td>15</td>\n",
              "      <td>18924.0</td>\n",
              "      <td>5 years</td>\n",
              "      <td>11660.49</td>\n",
              "      <td>debt  consolidation</td>\n",
              "      <td>I</td>\n",
              "      <td>0.0</td>\n",
              "      <td>0</td>\n",
              "    </tr>\n",
              "    <tr>\n",
              "      <th>2</th>\n",
              "      <td>92602</td>\n",
              "      <td>4247560</td>\n",
              "      <td>III</td>\n",
              "      <td>&lt;1yr</td>\n",
              "      <td>Source Verified</td>\n",
              "      <td>79200.00</td>\n",
              "      <td>REN?</td>\n",
              "      <td>0</td>\n",
              "      <td>0</td>\n",
              "      <td>driver</td>\n",
              "      <td>...</td>\n",
              "      <td>whole</td>\n",
              "      <td>Florida</td>\n",
              "      <td>7</td>\n",
              "      <td>15604.0</td>\n",
              "      <td>5 years</td>\n",
              "      <td>5637.87</td>\n",
              "      <td>major  purchase</td>\n",
              "      <td>I</td>\n",
              "      <td>0.0</td>\n",
              "      <td>0</td>\n",
              "    </tr>\n",
              "    <tr>\n",
              "      <th>3</th>\n",
              "      <td>22591</td>\n",
              "      <td>197179</td>\n",
              "      <td>III</td>\n",
              "      <td>&lt;1yr</td>\n",
              "      <td>Vfied</td>\n",
              "      <td>61600.00</td>\n",
              "      <td>REN?</td>\n",
              "      <td>0</td>\n",
              "      <td>0</td>\n",
              "      <td>AvePoint</td>\n",
              "      <td>...</td>\n",
              "      <td>fully paid</td>\n",
              "      <td>NewJersey</td>\n",
              "      <td>9</td>\n",
              "      <td>22410.0</td>\n",
              "      <td>3 years</td>\n",
              "      <td>15607.17</td>\n",
              "      <td>major  purchase</td>\n",
              "      <td>I</td>\n",
              "      <td>0.0</td>\n",
              "      <td>1</td>\n",
              "    </tr>\n",
              "    <tr>\n",
              "      <th>4</th>\n",
              "      <td>125060</td>\n",
              "      <td>4646684</td>\n",
              "      <td>V</td>\n",
              "      <td>2yrs</td>\n",
              "      <td>Source Verified</td>\n",
              "      <td>68053.92</td>\n",
              "      <td>REN?</td>\n",
              "      <td>0</td>\n",
              "      <td>0</td>\n",
              "      <td>Lead Tester</td>\n",
              "      <td>...</td>\n",
              "      <td>fully paid</td>\n",
              "      <td>LA</td>\n",
              "      <td>10</td>\n",
              "      <td>36022.0</td>\n",
              "      <td>5 years</td>\n",
              "      <td>27472.86</td>\n",
              "      <td>debt  consolidation</td>\n",
              "      <td>I</td>\n",
              "      <td>0.0</td>\n",
              "      <td>0</td>\n",
              "    </tr>\n",
              "  </tbody>\n",
              "</table>\n",
              "<p>5 rows × 30 columns</p>\n",
              "</div>\n",
              "      <button class=\"colab-df-convert\" onclick=\"convertToInteractive('df-199c30d0-b432-473d-8703-9fe087bd0e90')\"\n",
              "              title=\"Convert this dataframe to an interactive table.\"\n",
              "              style=\"display:none;\">\n",
              "        \n",
              "  <svg xmlns=\"http://www.w3.org/2000/svg\" height=\"24px\"viewBox=\"0 0 24 24\"\n",
              "       width=\"24px\">\n",
              "    <path d=\"M0 0h24v24H0V0z\" fill=\"none\"/>\n",
              "    <path d=\"M18.56 5.44l.94 2.06.94-2.06 2.06-.94-2.06-.94-.94-2.06-.94 2.06-2.06.94zm-11 1L8.5 8.5l.94-2.06 2.06-.94-2.06-.94L8.5 2.5l-.94 2.06-2.06.94zm10 10l.94 2.06.94-2.06 2.06-.94-2.06-.94-.94-2.06-.94 2.06-2.06.94z\"/><path d=\"M17.41 7.96l-1.37-1.37c-.4-.4-.92-.59-1.43-.59-.52 0-1.04.2-1.43.59L10.3 9.45l-7.72 7.72c-.78.78-.78 2.05 0 2.83L4 21.41c.39.39.9.59 1.41.59.51 0 1.02-.2 1.41-.59l7.78-7.78 2.81-2.81c.8-.78.8-2.07 0-2.86zM5.41 20L4 18.59l7.72-7.72 1.47 1.35L5.41 20z\"/>\n",
              "  </svg>\n",
              "      </button>\n",
              "      \n",
              "  <style>\n",
              "    .colab-df-container {\n",
              "      display:flex;\n",
              "      flex-wrap:wrap;\n",
              "      gap: 12px;\n",
              "    }\n",
              "\n",
              "    .colab-df-convert {\n",
              "      background-color: #E8F0FE;\n",
              "      border: none;\n",
              "      border-radius: 50%;\n",
              "      cursor: pointer;\n",
              "      display: none;\n",
              "      fill: #1967D2;\n",
              "      height: 32px;\n",
              "      padding: 0 0 0 0;\n",
              "      width: 32px;\n",
              "    }\n",
              "\n",
              "    .colab-df-convert:hover {\n",
              "      background-color: #E2EBFA;\n",
              "      box-shadow: 0px 1px 2px rgba(60, 64, 67, 0.3), 0px 1px 3px 1px rgba(60, 64, 67, 0.15);\n",
              "      fill: #174EA6;\n",
              "    }\n",
              "\n",
              "    [theme=dark] .colab-df-convert {\n",
              "      background-color: #3B4455;\n",
              "      fill: #D2E3FC;\n",
              "    }\n",
              "\n",
              "    [theme=dark] .colab-df-convert:hover {\n",
              "      background-color: #434B5C;\n",
              "      box-shadow: 0px 1px 3px 1px rgba(0, 0, 0, 0.15);\n",
              "      filter: drop-shadow(0px 1px 2px rgba(0, 0, 0, 0.3));\n",
              "      fill: #FFFFFF;\n",
              "    }\n",
              "  </style>\n",
              "\n",
              "      <script>\n",
              "        const buttonEl =\n",
              "          document.querySelector('#df-199c30d0-b432-473d-8703-9fe087bd0e90 button.colab-df-convert');\n",
              "        buttonEl.style.display =\n",
              "          google.colab.kernel.accessAllowed ? 'block' : 'none';\n",
              "\n",
              "        async function convertToInteractive(key) {\n",
              "          const element = document.querySelector('#df-199c30d0-b432-473d-8703-9fe087bd0e90');\n",
              "          const dataTable =\n",
              "            await google.colab.kernel.invokeFunction('convertToInteractive',\n",
              "                                                     [key], {});\n",
              "          if (!dataTable) return;\n",
              "\n",
              "          const docLinkHtml = 'Like what you see? Visit the ' +\n",
              "            '<a target=\"_blank\" href=https://colab.research.google.com/notebooks/data_table.ipynb>data table notebook</a>'\n",
              "            + ' to learn more about interactive tables.';\n",
              "          element.innerHTML = '';\n",
              "          dataTable['output_type'] = 'display_data';\n",
              "          await google.colab.output.renderOutput(dataTable, element);\n",
              "          const docLink = document.createElement('div');\n",
              "          docLink.innerHTML = docLinkHtml;\n",
              "          element.appendChild(docLink);\n",
              "        }\n",
              "      </script>\n",
              "    </div>\n",
              "  </div>\n",
              "  "
            ]
          },
          "metadata": {},
          "execution_count": 2
        }
      ],
      "source": [
        "df=pd.read_csv('Data_Train.csv')\n",
        "df_test = pd.read_csv('Data_Test.csv')\n",
        "df.head()"
      ]
    },
    {
      "cell_type": "code",
      "execution_count": null,
      "id": "7194201f",
      "metadata": {
        "colab": {
          "base_uri": "https://localhost:8080/"
        },
        "id": "7194201f",
        "outputId": "3cc90a3d-2604-499d-999d-3a4dc56d6b6a"
      },
      "outputs": [
        {
          "output_type": "execute_result",
          "data": {
            "text/plain": [
              "(87500, 30)"
            ]
          },
          "metadata": {},
          "execution_count": 3
        }
      ],
      "source": [
        "df.shape"
      ]
    },
    {
      "cell_type": "code",
      "execution_count": null,
      "id": "fa6e0d7a",
      "metadata": {
        "scrolled": true,
        "colab": {
          "base_uri": "https://localhost:8080/",
          "height": 382
        },
        "id": "fa6e0d7a",
        "outputId": "034cf8c0-61ba-4866-c1da-4221446504f7"
      },
      "outputs": [
        {
          "output_type": "execute_result",
          "data": {
            "text/plain": [
              "                  ID      Asst_Reg  Yearly Income  Unpaid 2 years  \\\n",
              "count   87500.000000  8.750000e+04   8.192500e+04    87500.000000   \n",
              "mean    83946.253509  3.798914e+06   1.348596e+05        0.332937   \n",
              "std     36100.102950  2.289038e+06   9.882473e+04        0.876080   \n",
              "min     21560.000000  2.484700e+04   8.800000e+03        0.000000   \n",
              "25%     52616.750000  1.483874e+06   8.324659e+04        0.000000   \n",
              "50%     83900.000000  4.132010e+06   1.144000e+05        0.000000   \n",
              "75%    115261.250000  5.952909e+06   1.601600e+05        0.000000   \n",
              "max    146559.000000  7.351847e+06   8.264031e+06       18.000000   \n",
              "\n",
              "       Already Defaulted  Debt to Income   Postal Code   Lend Amount  \\\n",
              "count       87500.000000    84011.000000  86111.000000  87500.000000   \n",
              "mean            0.005726       30.942660  51155.385491  25920.535680   \n",
              "std             0.083505       14.079813  31211.229930  14433.837213   \n",
              "min             0.000000        0.000000   1000.000000   1710.000000   \n",
              "25%             0.000000       20.428800  22900.000000  15048.000000   \n",
              "50%             0.000000       30.139200  47700.000000  23940.000000   \n",
              "75%             0.000000       40.908000  80200.000000  34200.000000   \n",
              "max             6.000000      639.290400  99900.000000  59850.000000   \n",
              "\n",
              "       Deprecatory Records  Interest Charged    Usage Rate     Inquiries  \\\n",
              "count         87500.000000      87500.000000  87500.000000  87500.000000   \n",
              "mean              0.202400         16.518375     95.517348      0.670640   \n",
              "std               0.646414          4.902011     40.554035      0.959572   \n",
              "min               0.000000          8.000000      0.000000      0.000000   \n",
              "25%               0.000000         12.310000     66.048000      0.000000   \n",
              "50%               0.000000         16.490000     97.008000      0.000000   \n",
              "75%               0.000000         20.770000    126.592000      1.000000   \n",
              "max              86.000000         25.000000   1534.756000      8.000000   \n",
              "\n",
              "       Present Balance  Gross Collection   Sub GGGrade  Account Open  \\\n",
              "count     8.750000e+04      87500.000000  87500.000000   87500.00000   \n",
              "mean      2.363895e+05         39.461697     22.024891      12.77944   \n",
              "std       2.550568e+05        391.919578      6.452697       5.37116   \n",
              "min       0.000000e+00          0.000000     11.000000       2.00000   \n",
              "25%       5.173493e+04          0.000000     17.000000       9.00000   \n",
              "50%       1.388062e+05          0.000000     21.000000      12.00000   \n",
              "75%       3.534755e+05          0.000000     26.000000      16.00000   \n",
              "max       5.629234e+06      26308.470000     45.000000      83.00000   \n",
              "\n",
              "       Total Unpaid CL  Unpaid Amount       Due Fee  Loan/No Loan  \n",
              "count     8.331400e+04   8.264800e+04  87500.000000  87500.000000  \n",
              "mean      5.326864e+04   2.955649e+04      0.316407      0.188709  \n",
              "std       5.325551e+04   3.745625e+04      3.546087      0.391279  \n",
              "min       3.320000e+02   0.000000e+00      0.000000      0.000000  \n",
              "25%       2.324000e+04   1.144674e+04      0.000000      0.000000  \n",
              "50%       3.967400e+04   2.089278e+04      0.000000      0.000000  \n",
              "75%       6.640000e+04   3.644908e+04      0.000000      0.000000  \n",
              "max       1.710630e+06   1.338778e+06    169.050000      1.000000  "
            ],
            "text/html": [
              "\n",
              "  <div id=\"df-9281fbe0-4a39-4232-b54a-e216b29ca767\">\n",
              "    <div class=\"colab-df-container\">\n",
              "      <div>\n",
              "<style scoped>\n",
              "    .dataframe tbody tr th:only-of-type {\n",
              "        vertical-align: middle;\n",
              "    }\n",
              "\n",
              "    .dataframe tbody tr th {\n",
              "        vertical-align: top;\n",
              "    }\n",
              "\n",
              "    .dataframe thead th {\n",
              "        text-align: right;\n",
              "    }\n",
              "</style>\n",
              "<table border=\"1\" class=\"dataframe\">\n",
              "  <thead>\n",
              "    <tr style=\"text-align: right;\">\n",
              "      <th></th>\n",
              "      <th>ID</th>\n",
              "      <th>Asst_Reg</th>\n",
              "      <th>Yearly Income</th>\n",
              "      <th>Unpaid 2 years</th>\n",
              "      <th>Already Defaulted</th>\n",
              "      <th>Debt to Income</th>\n",
              "      <th>Postal Code</th>\n",
              "      <th>Lend Amount</th>\n",
              "      <th>Deprecatory Records</th>\n",
              "      <th>Interest Charged</th>\n",
              "      <th>Usage Rate</th>\n",
              "      <th>Inquiries</th>\n",
              "      <th>Present Balance</th>\n",
              "      <th>Gross Collection</th>\n",
              "      <th>Sub GGGrade</th>\n",
              "      <th>Account Open</th>\n",
              "      <th>Total Unpaid CL</th>\n",
              "      <th>Unpaid Amount</th>\n",
              "      <th>Due Fee</th>\n",
              "      <th>Loan/No Loan</th>\n",
              "    </tr>\n",
              "  </thead>\n",
              "  <tbody>\n",
              "    <tr>\n",
              "      <th>count</th>\n",
              "      <td>87500.000000</td>\n",
              "      <td>8.750000e+04</td>\n",
              "      <td>8.192500e+04</td>\n",
              "      <td>87500.000000</td>\n",
              "      <td>87500.000000</td>\n",
              "      <td>84011.000000</td>\n",
              "      <td>86111.000000</td>\n",
              "      <td>87500.000000</td>\n",
              "      <td>87500.000000</td>\n",
              "      <td>87500.000000</td>\n",
              "      <td>87500.000000</td>\n",
              "      <td>87500.000000</td>\n",
              "      <td>8.750000e+04</td>\n",
              "      <td>87500.000000</td>\n",
              "      <td>87500.000000</td>\n",
              "      <td>87500.00000</td>\n",
              "      <td>8.331400e+04</td>\n",
              "      <td>8.264800e+04</td>\n",
              "      <td>87500.000000</td>\n",
              "      <td>87500.000000</td>\n",
              "    </tr>\n",
              "    <tr>\n",
              "      <th>mean</th>\n",
              "      <td>83946.253509</td>\n",
              "      <td>3.798914e+06</td>\n",
              "      <td>1.348596e+05</td>\n",
              "      <td>0.332937</td>\n",
              "      <td>0.005726</td>\n",
              "      <td>30.942660</td>\n",
              "      <td>51155.385491</td>\n",
              "      <td>25920.535680</td>\n",
              "      <td>0.202400</td>\n",
              "      <td>16.518375</td>\n",
              "      <td>95.517348</td>\n",
              "      <td>0.670640</td>\n",
              "      <td>2.363895e+05</td>\n",
              "      <td>39.461697</td>\n",
              "      <td>22.024891</td>\n",
              "      <td>12.77944</td>\n",
              "      <td>5.326864e+04</td>\n",
              "      <td>2.955649e+04</td>\n",
              "      <td>0.316407</td>\n",
              "      <td>0.188709</td>\n",
              "    </tr>\n",
              "    <tr>\n",
              "      <th>std</th>\n",
              "      <td>36100.102950</td>\n",
              "      <td>2.289038e+06</td>\n",
              "      <td>9.882473e+04</td>\n",
              "      <td>0.876080</td>\n",
              "      <td>0.083505</td>\n",
              "      <td>14.079813</td>\n",
              "      <td>31211.229930</td>\n",
              "      <td>14433.837213</td>\n",
              "      <td>0.646414</td>\n",
              "      <td>4.902011</td>\n",
              "      <td>40.554035</td>\n",
              "      <td>0.959572</td>\n",
              "      <td>2.550568e+05</td>\n",
              "      <td>391.919578</td>\n",
              "      <td>6.452697</td>\n",
              "      <td>5.37116</td>\n",
              "      <td>5.325551e+04</td>\n",
              "      <td>3.745625e+04</td>\n",
              "      <td>3.546087</td>\n",
              "      <td>0.391279</td>\n",
              "    </tr>\n",
              "    <tr>\n",
              "      <th>min</th>\n",
              "      <td>21560.000000</td>\n",
              "      <td>2.484700e+04</td>\n",
              "      <td>8.800000e+03</td>\n",
              "      <td>0.000000</td>\n",
              "      <td>0.000000</td>\n",
              "      <td>0.000000</td>\n",
              "      <td>1000.000000</td>\n",
              "      <td>1710.000000</td>\n",
              "      <td>0.000000</td>\n",
              "      <td>8.000000</td>\n",
              "      <td>0.000000</td>\n",
              "      <td>0.000000</td>\n",
              "      <td>0.000000e+00</td>\n",
              "      <td>0.000000</td>\n",
              "      <td>11.000000</td>\n",
              "      <td>2.00000</td>\n",
              "      <td>3.320000e+02</td>\n",
              "      <td>0.000000e+00</td>\n",
              "      <td>0.000000</td>\n",
              "      <td>0.000000</td>\n",
              "    </tr>\n",
              "    <tr>\n",
              "      <th>25%</th>\n",
              "      <td>52616.750000</td>\n",
              "      <td>1.483874e+06</td>\n",
              "      <td>8.324659e+04</td>\n",
              "      <td>0.000000</td>\n",
              "      <td>0.000000</td>\n",
              "      <td>20.428800</td>\n",
              "      <td>22900.000000</td>\n",
              "      <td>15048.000000</td>\n",
              "      <td>0.000000</td>\n",
              "      <td>12.310000</td>\n",
              "      <td>66.048000</td>\n",
              "      <td>0.000000</td>\n",
              "      <td>5.173493e+04</td>\n",
              "      <td>0.000000</td>\n",
              "      <td>17.000000</td>\n",
              "      <td>9.00000</td>\n",
              "      <td>2.324000e+04</td>\n",
              "      <td>1.144674e+04</td>\n",
              "      <td>0.000000</td>\n",
              "      <td>0.000000</td>\n",
              "    </tr>\n",
              "    <tr>\n",
              "      <th>50%</th>\n",
              "      <td>83900.000000</td>\n",
              "      <td>4.132010e+06</td>\n",
              "      <td>1.144000e+05</td>\n",
              "      <td>0.000000</td>\n",
              "      <td>0.000000</td>\n",
              "      <td>30.139200</td>\n",
              "      <td>47700.000000</td>\n",
              "      <td>23940.000000</td>\n",
              "      <td>0.000000</td>\n",
              "      <td>16.490000</td>\n",
              "      <td>97.008000</td>\n",
              "      <td>0.000000</td>\n",
              "      <td>1.388062e+05</td>\n",
              "      <td>0.000000</td>\n",
              "      <td>21.000000</td>\n",
              "      <td>12.00000</td>\n",
              "      <td>3.967400e+04</td>\n",
              "      <td>2.089278e+04</td>\n",
              "      <td>0.000000</td>\n",
              "      <td>0.000000</td>\n",
              "    </tr>\n",
              "    <tr>\n",
              "      <th>75%</th>\n",
              "      <td>115261.250000</td>\n",
              "      <td>5.952909e+06</td>\n",
              "      <td>1.601600e+05</td>\n",
              "      <td>0.000000</td>\n",
              "      <td>0.000000</td>\n",
              "      <td>40.908000</td>\n",
              "      <td>80200.000000</td>\n",
              "      <td>34200.000000</td>\n",
              "      <td>0.000000</td>\n",
              "      <td>20.770000</td>\n",
              "      <td>126.592000</td>\n",
              "      <td>1.000000</td>\n",
              "      <td>3.534755e+05</td>\n",
              "      <td>0.000000</td>\n",
              "      <td>26.000000</td>\n",
              "      <td>16.00000</td>\n",
              "      <td>6.640000e+04</td>\n",
              "      <td>3.644908e+04</td>\n",
              "      <td>0.000000</td>\n",
              "      <td>0.000000</td>\n",
              "    </tr>\n",
              "    <tr>\n",
              "      <th>max</th>\n",
              "      <td>146559.000000</td>\n",
              "      <td>7.351847e+06</td>\n",
              "      <td>8.264031e+06</td>\n",
              "      <td>18.000000</td>\n",
              "      <td>6.000000</td>\n",
              "      <td>639.290400</td>\n",
              "      <td>99900.000000</td>\n",
              "      <td>59850.000000</td>\n",
              "      <td>86.000000</td>\n",
              "      <td>25.000000</td>\n",
              "      <td>1534.756000</td>\n",
              "      <td>8.000000</td>\n",
              "      <td>5.629234e+06</td>\n",
              "      <td>26308.470000</td>\n",
              "      <td>45.000000</td>\n",
              "      <td>83.00000</td>\n",
              "      <td>1.710630e+06</td>\n",
              "      <td>1.338778e+06</td>\n",
              "      <td>169.050000</td>\n",
              "      <td>1.000000</td>\n",
              "    </tr>\n",
              "  </tbody>\n",
              "</table>\n",
              "</div>\n",
              "      <button class=\"colab-df-convert\" onclick=\"convertToInteractive('df-9281fbe0-4a39-4232-b54a-e216b29ca767')\"\n",
              "              title=\"Convert this dataframe to an interactive table.\"\n",
              "              style=\"display:none;\">\n",
              "        \n",
              "  <svg xmlns=\"http://www.w3.org/2000/svg\" height=\"24px\"viewBox=\"0 0 24 24\"\n",
              "       width=\"24px\">\n",
              "    <path d=\"M0 0h24v24H0V0z\" fill=\"none\"/>\n",
              "    <path d=\"M18.56 5.44l.94 2.06.94-2.06 2.06-.94-2.06-.94-.94-2.06-.94 2.06-2.06.94zm-11 1L8.5 8.5l.94-2.06 2.06-.94-2.06-.94L8.5 2.5l-.94 2.06-2.06.94zm10 10l.94 2.06.94-2.06 2.06-.94-2.06-.94-.94-2.06-.94 2.06-2.06.94z\"/><path d=\"M17.41 7.96l-1.37-1.37c-.4-.4-.92-.59-1.43-.59-.52 0-1.04.2-1.43.59L10.3 9.45l-7.72 7.72c-.78.78-.78 2.05 0 2.83L4 21.41c.39.39.9.59 1.41.59.51 0 1.02-.2 1.41-.59l7.78-7.78 2.81-2.81c.8-.78.8-2.07 0-2.86zM5.41 20L4 18.59l7.72-7.72 1.47 1.35L5.41 20z\"/>\n",
              "  </svg>\n",
              "      </button>\n",
              "      \n",
              "  <style>\n",
              "    .colab-df-container {\n",
              "      display:flex;\n",
              "      flex-wrap:wrap;\n",
              "      gap: 12px;\n",
              "    }\n",
              "\n",
              "    .colab-df-convert {\n",
              "      background-color: #E8F0FE;\n",
              "      border: none;\n",
              "      border-radius: 50%;\n",
              "      cursor: pointer;\n",
              "      display: none;\n",
              "      fill: #1967D2;\n",
              "      height: 32px;\n",
              "      padding: 0 0 0 0;\n",
              "      width: 32px;\n",
              "    }\n",
              "\n",
              "    .colab-df-convert:hover {\n",
              "      background-color: #E2EBFA;\n",
              "      box-shadow: 0px 1px 2px rgba(60, 64, 67, 0.3), 0px 1px 3px 1px rgba(60, 64, 67, 0.15);\n",
              "      fill: #174EA6;\n",
              "    }\n",
              "\n",
              "    [theme=dark] .colab-df-convert {\n",
              "      background-color: #3B4455;\n",
              "      fill: #D2E3FC;\n",
              "    }\n",
              "\n",
              "    [theme=dark] .colab-df-convert:hover {\n",
              "      background-color: #434B5C;\n",
              "      box-shadow: 0px 1px 3px 1px rgba(0, 0, 0, 0.15);\n",
              "      filter: drop-shadow(0px 1px 2px rgba(0, 0, 0, 0.3));\n",
              "      fill: #FFFFFF;\n",
              "    }\n",
              "  </style>\n",
              "\n",
              "      <script>\n",
              "        const buttonEl =\n",
              "          document.querySelector('#df-9281fbe0-4a39-4232-b54a-e216b29ca767 button.colab-df-convert');\n",
              "        buttonEl.style.display =\n",
              "          google.colab.kernel.accessAllowed ? 'block' : 'none';\n",
              "\n",
              "        async function convertToInteractive(key) {\n",
              "          const element = document.querySelector('#df-9281fbe0-4a39-4232-b54a-e216b29ca767');\n",
              "          const dataTable =\n",
              "            await google.colab.kernel.invokeFunction('convertToInteractive',\n",
              "                                                     [key], {});\n",
              "          if (!dataTable) return;\n",
              "\n",
              "          const docLinkHtml = 'Like what you see? Visit the ' +\n",
              "            '<a target=\"_blank\" href=https://colab.research.google.com/notebooks/data_table.ipynb>data table notebook</a>'\n",
              "            + ' to learn more about interactive tables.';\n",
              "          element.innerHTML = '';\n",
              "          dataTable['output_type'] = 'display_data';\n",
              "          await google.colab.output.renderOutput(dataTable, element);\n",
              "          const docLink = document.createElement('div');\n",
              "          docLink.innerHTML = docLinkHtml;\n",
              "          element.appendChild(docLink);\n",
              "        }\n",
              "      </script>\n",
              "    </div>\n",
              "  </div>\n",
              "  "
            ]
          },
          "metadata": {},
          "execution_count": 4
        }
      ],
      "source": [
        "df.describe()"
      ]
    },
    {
      "cell_type": "code",
      "execution_count": null,
      "id": "9d2a7259",
      "metadata": {
        "colab": {
          "base_uri": "https://localhost:8080/"
        },
        "id": "9d2a7259",
        "outputId": "bf1bdbe5-3e12-4311-b399-1102de79aff8"
      },
      "outputs": [
        {
          "output_type": "execute_result",
          "data": {
            "text/plain": [
              "ID                       int64\n",
              "Asst_Reg                 int64\n",
              "GGGrade                 object\n",
              "Experience              object\n",
              "Validation              object\n",
              "Yearly Income          float64\n",
              "Home Status             object\n",
              "Unpaid 2 years           int64\n",
              "Already Defaulted        int64\n",
              "Designation             object\n",
              "Debt to Income         float64\n",
              "Postal Code            float64\n",
              "Lend Amount            float64\n",
              "Deprecatory Records      int64\n",
              "Interest Charged       float64\n",
              "Usage Rate             float64\n",
              "Inquiries                int64\n",
              "Present Balance        float64\n",
              "Gross Collection       float64\n",
              "Sub GGGrade              int64\n",
              "File Status             object\n",
              "State                   object\n",
              "Account Open             int64\n",
              "Total Unpaid CL        float64\n",
              "Duration                object\n",
              "Unpaid Amount          float64\n",
              "Reason                  object\n",
              "Claim Type              object\n",
              "Due Fee                float64\n",
              "Loan/No Loan             int64\n",
              "dtype: object"
            ]
          },
          "metadata": {},
          "execution_count": 5
        }
      ],
      "source": [
        "df.dtypes"
      ]
    },
    {
      "cell_type": "markdown",
      "id": "362da514",
      "metadata": {
        "id": "362da514"
      },
      "source": [
        "# DATA CLEANING (TRAIN DATA) "
      ]
    },
    {
      "cell_type": "code",
      "execution_count": null,
      "id": "2465ea11",
      "metadata": {
        "id": "2465ea11"
      },
      "outputs": [],
      "source": [
        "df['Loan/No Loan'] = df['Loan/No Loan'].astype('O')\n"
      ]
    },
    {
      "cell_type": "code",
      "execution_count": null,
      "id": "070d752e",
      "metadata": {
        "colab": {
          "base_uri": "https://localhost:8080/"
        },
        "id": "070d752e",
        "outputId": "474c50c4-f46e-40d4-e1d7-a8238caf84f1"
      },
      "outputs": [
        {
          "output_type": "execute_result",
          "data": {
            "text/plain": [
              "dtype('O')"
            ]
          },
          "metadata": {},
          "execution_count": 7
        }
      ],
      "source": [
        "df['Loan/No Loan'].dtype"
      ]
    },
    {
      "cell_type": "code",
      "execution_count": null,
      "id": "ebcf20f1",
      "metadata": {
        "colab": {
          "base_uri": "https://localhost:8080/"
        },
        "id": "ebcf20f1",
        "outputId": "31ac2e11-1cf8-499f-b0e7-0dfb6ab8733b"
      },
      "outputs": [
        {
          "output_type": "execute_result",
          "data": {
            "text/plain": [
              "ID                        0\n",
              "Asst_Reg                  0\n",
              "GGGrade                   0\n",
              "Experience                0\n",
              "Validation                0\n",
              "Yearly Income          5575\n",
              "Home Status               0\n",
              "Unpaid 2 years            0\n",
              "Already Defaulted         0\n",
              "Designation            1414\n",
              "Debt to Income         3489\n",
              "Postal Code            1389\n",
              "Lend Amount               0\n",
              "Deprecatory Records       0\n",
              "Interest Charged          0\n",
              "Usage Rate                0\n",
              "Inquiries                 0\n",
              "Present Balance           0\n",
              "Gross Collection          0\n",
              "Sub GGGrade               0\n",
              "File Status               0\n",
              "State                     0\n",
              "Account Open              0\n",
              "Total Unpaid CL        4186\n",
              "Duration                  0\n",
              "Unpaid Amount          4852\n",
              "Reason                    0\n",
              "Claim Type                0\n",
              "Due Fee                   0\n",
              "Loan/No Loan              0\n",
              "dtype: int64"
            ]
          },
          "metadata": {},
          "execution_count": 8
        }
      ],
      "source": [
        "df.isnull().sum()"
      ]
    },
    {
      "cell_type": "code",
      "execution_count": null,
      "id": "30cd9e7b",
      "metadata": {
        "colab": {
          "base_uri": "https://localhost:8080/"
        },
        "id": "30cd9e7b",
        "outputId": "09acb85d-bf7b-4bc6-f229-4e0ddd87a5cd"
      },
      "outputs": [
        {
          "output_type": "execute_result",
          "data": {
            "text/plain": [
              "Index(['ID', 'Asst_Reg', 'Yearly Income', 'Unpaid 2 years',\n",
              "       'Already Defaulted', 'Debt to Income', 'Postal Code', 'Lend Amount',\n",
              "       'Deprecatory Records', 'Interest Charged', 'Usage Rate', 'Inquiries',\n",
              "       'Present Balance', 'Gross Collection', 'Sub GGGrade', 'Account Open',\n",
              "       'Total Unpaid CL', 'Unpaid Amount', 'Due Fee'],\n",
              "      dtype='object')"
            ]
          },
          "metadata": {},
          "execution_count": 9
        }
      ],
      "source": [
        "df_num = df.select_dtypes(np.number)\n",
        "df_num.columns"
      ]
    },
    {
      "cell_type": "code",
      "execution_count": null,
      "id": "aed98c92",
      "metadata": {
        "colab": {
          "base_uri": "https://localhost:8080/"
        },
        "id": "aed98c92",
        "outputId": "2cb5de06-8f9c-4752-f3f2-306fe8ecd30f"
      },
      "outputs": [
        {
          "output_type": "execute_result",
          "data": {
            "text/plain": [
              "ID                        0\n",
              "Asst_Reg                  0\n",
              "Yearly Income          5575\n",
              "Unpaid 2 years            0\n",
              "Already Defaulted         0\n",
              "Debt to Income         3489\n",
              "Postal Code            1389\n",
              "Lend Amount               0\n",
              "Deprecatory Records       0\n",
              "Interest Charged          0\n",
              "Usage Rate                0\n",
              "Inquiries                 0\n",
              "Present Balance           0\n",
              "Gross Collection          0\n",
              "Sub GGGrade               0\n",
              "Account Open              0\n",
              "Total Unpaid CL        4186\n",
              "Unpaid Amount          4852\n",
              "Due Fee                   0\n",
              "dtype: int64"
            ]
          },
          "metadata": {},
          "execution_count": 10
        }
      ],
      "source": [
        "df_num.isnull().sum()"
      ]
    },
    {
      "cell_type": "code",
      "execution_count": null,
      "id": "3ff918e9",
      "metadata": {
        "colab": {
          "base_uri": "https://localhost:8080/"
        },
        "id": "3ff918e9",
        "outputId": "264a8ad8-5c64-450b-89d8-fb36f2586ecd"
      },
      "outputs": [
        {
          "output_type": "execute_result",
          "data": {
            "text/plain": [
              "ID                     0\n",
              "Asst_Reg               0\n",
              "Yearly Income          0\n",
              "Unpaid 2 years         0\n",
              "Already Defaulted      0\n",
              "Debt to Income         0\n",
              "Postal Code            0\n",
              "Lend Amount            0\n",
              "Deprecatory Records    0\n",
              "Interest Charged       0\n",
              "Usage Rate             0\n",
              "Inquiries              0\n",
              "Present Balance        0\n",
              "Gross Collection       0\n",
              "Sub GGGrade            0\n",
              "Account Open           0\n",
              "Total Unpaid CL        0\n",
              "Unpaid Amount          0\n",
              "Due Fee                0\n",
              "dtype: int64"
            ]
          },
          "metadata": {},
          "execution_count": 11
        }
      ],
      "source": [
        "from sklearn.impute import SimpleImputer\n",
        "sim = SimpleImputer(strategy = 'median').fit_transform(df_num.values)\n",
        "df_num = pd.DataFrame(sim,index = df_num.index,columns = df_num.columns)\n",
        "\n",
        "df_num.isnull().sum()"
      ]
    },
    {
      "cell_type": "code",
      "execution_count": null,
      "id": "fbf55cc8",
      "metadata": {
        "colab": {
          "base_uri": "https://localhost:8080/"
        },
        "id": "fbf55cc8",
        "outputId": "dc34acc5-1876-4cc5-80e5-4f7b4fc6fa0d"
      },
      "outputs": [
        {
          "output_type": "execute_result",
          "data": {
            "text/plain": [
              "Index(['GGGrade', 'Experience', 'Validation', 'Home Status', 'Designation',\n",
              "       'File Status', 'State', 'Duration', 'Reason', 'Claim Type',\n",
              "       'Loan/No Loan'],\n",
              "      dtype='object')"
            ]
          },
          "metadata": {},
          "execution_count": 12
        }
      ],
      "source": [
        "df_cat = df.select_dtypes('O')\n",
        "df_cat.columns"
      ]
    },
    {
      "cell_type": "code",
      "execution_count": null,
      "id": "6dd3528d",
      "metadata": {
        "scrolled": true,
        "colab": {
          "base_uri": "https://localhost:8080/"
        },
        "id": "6dd3528d",
        "outputId": "7b8d543d-cc3e-40da-c29f-807ee7bd751c"
      },
      "outputs": [
        {
          "output_type": "execute_result",
          "data": {
            "text/plain": [
              "GGGrade            0\n",
              "Experience         0\n",
              "Validation         0\n",
              "Home Status        0\n",
              "Designation     1414\n",
              "File Status        0\n",
              "State              0\n",
              "Duration           0\n",
              "Reason             0\n",
              "Claim Type         0\n",
              "Loan/No Loan       0\n",
              "dtype: int64"
            ]
          },
          "metadata": {},
          "execution_count": 13
        }
      ],
      "source": [
        "df_cat.isnull().sum()"
      ]
    },
    {
      "cell_type": "code",
      "execution_count": null,
      "id": "bd18fa4b",
      "metadata": {
        "colab": {
          "base_uri": "https://localhost:8080/"
        },
        "id": "bd18fa4b",
        "outputId": "a38687e3-9f11-4827-ce2d-526134ba123a"
      },
      "outputs": [
        {
          "output_type": "execute_result",
          "data": {
            "text/plain": [
              "GGGrade         0\n",
              "Experience      0\n",
              "Validation      0\n",
              "Home Status     0\n",
              "Designation     0\n",
              "File Status     0\n",
              "State           0\n",
              "Duration        0\n",
              "Reason          0\n",
              "Claim Type      0\n",
              "Loan/No Loan    0\n",
              "dtype: int64"
            ]
          },
          "metadata": {},
          "execution_count": 14
        }
      ],
      "source": [
        "si = SimpleImputer(strategy = 'most_frequent').fit_transform(df_cat.values)\n",
        "df_cat = pd.DataFrame(si,index = df_cat.index,columns = df_cat.columns)\n",
        "\n",
        "df_cat.isnull().sum()"
      ]
    },
    {
      "cell_type": "code",
      "execution_count": null,
      "id": "2d3fdb73",
      "metadata": {
        "colab": {
          "base_uri": "https://localhost:8080/"
        },
        "id": "2d3fdb73",
        "outputId": "31452801-83f7-4f7f-e4fb-10f619299f68"
      },
      "outputs": [
        {
          "output_type": "execute_result",
          "data": {
            "text/plain": [
              "ID                     0\n",
              "Asst_Reg               0\n",
              "Yearly Income          0\n",
              "Unpaid 2 years         0\n",
              "Already Defaulted      0\n",
              "Debt to Income         0\n",
              "Postal Code            0\n",
              "Lend Amount            0\n",
              "Deprecatory Records    0\n",
              "Interest Charged       0\n",
              "Usage Rate             0\n",
              "Inquiries              0\n",
              "Present Balance        0\n",
              "Gross Collection       0\n",
              "Sub GGGrade            0\n",
              "Account Open           0\n",
              "Total Unpaid CL        0\n",
              "Unpaid Amount          0\n",
              "Due Fee                0\n",
              "GGGrade                0\n",
              "Experience             0\n",
              "Validation             0\n",
              "Home Status            0\n",
              "Designation            0\n",
              "File Status            0\n",
              "State                  0\n",
              "Duration               0\n",
              "Reason                 0\n",
              "Claim Type             0\n",
              "Loan/No Loan           0\n",
              "dtype: int64"
            ]
          },
          "metadata": {},
          "execution_count": 15
        }
      ],
      "source": [
        "df  = pd.concat([df_num,df_cat],axis = 1)\n",
        "df.isnull().sum()"
      ]
    },
    {
      "cell_type": "code",
      "execution_count": null,
      "id": "fc7c8964",
      "metadata": {
        "colab": {
          "base_uri": "https://localhost:8080/",
          "height": 424
        },
        "id": "fc7c8964",
        "outputId": "d05951dd-2a71-4214-9749-3f73700ee54e"
      },
      "outputs": [
        {
          "output_type": "execute_result",
          "data": {
            "text/plain": [
              "      GGGrade Experience       Validation Home Status            Designation  \\\n",
              "0          II     >10yrs            Vfied    MOR??AGE        GLENDALE NISSAN   \n",
              "1          IV       7yrs  Source Verified        REN?       Business Teacher   \n",
              "2         III       <1yr  Source Verified        REN?                 driver   \n",
              "3         III       <1yr            Vfied        REN?               AvePoint   \n",
              "4           V       2yrs  Source Verified        REN?            Lead Tester   \n",
              "...       ...        ...              ...         ...                    ...   \n",
              "87495      II     >10yrs        Not Vfied        REN?    Engineer Support II   \n",
              "87496      IV       3yrs  Source Verified        REN?       Dental Hygienist   \n",
              "87497      II     >10yrs  Source Verified    MOR??AGE  Interface Coordinator   \n",
              "87498     III       1yrs  Source Verified    MOR??AGE            PARTS CLERK   \n",
              "87499     III       2yrs            Vfied        REN?      Outside sales rep   \n",
              "\n",
              "      File Status       State Duration               Reason Claim Type  \\\n",
              "0      fully paid  California  3 years  debt  consolidation          I   \n",
              "1           whole          NC  5 years  debt  consolidation          I   \n",
              "2           whole     Florida  5 years      major  purchase          I   \n",
              "3      fully paid   NewJersey  3 years      major  purchase          I   \n",
              "4      fully paid          LA  5 years  debt  consolidation          I   \n",
              "...           ...         ...      ...                  ...        ...   \n",
              "87495       whole          MI  3 years  debt  consolidation          I   \n",
              "87496       whole          MA  5 years  debt  consolidation          I   \n",
              "87497  fully paid          CT  3 years  debt  consolidation          I   \n",
              "87498       whole          PA  3 years  debt  consolidation          I   \n",
              "87499       whole  California  5 years  debt  consolidation          I   \n",
              "\n",
              "      Loan/No Loan  \n",
              "0                0  \n",
              "1                0  \n",
              "2                0  \n",
              "3                1  \n",
              "4                0  \n",
              "...            ...  \n",
              "87495            0  \n",
              "87496            0  \n",
              "87497            0  \n",
              "87498            0  \n",
              "87499            0  \n",
              "\n",
              "[87500 rows x 11 columns]"
            ],
            "text/html": [
              "\n",
              "  <div id=\"df-5cfff4a4-8c64-4ee7-a0d2-36b2858d648d\">\n",
              "    <div class=\"colab-df-container\">\n",
              "      <div>\n",
              "<style scoped>\n",
              "    .dataframe tbody tr th:only-of-type {\n",
              "        vertical-align: middle;\n",
              "    }\n",
              "\n",
              "    .dataframe tbody tr th {\n",
              "        vertical-align: top;\n",
              "    }\n",
              "\n",
              "    .dataframe thead th {\n",
              "        text-align: right;\n",
              "    }\n",
              "</style>\n",
              "<table border=\"1\" class=\"dataframe\">\n",
              "  <thead>\n",
              "    <tr style=\"text-align: right;\">\n",
              "      <th></th>\n",
              "      <th>GGGrade</th>\n",
              "      <th>Experience</th>\n",
              "      <th>Validation</th>\n",
              "      <th>Home Status</th>\n",
              "      <th>Designation</th>\n",
              "      <th>File Status</th>\n",
              "      <th>State</th>\n",
              "      <th>Duration</th>\n",
              "      <th>Reason</th>\n",
              "      <th>Claim Type</th>\n",
              "      <th>Loan/No Loan</th>\n",
              "    </tr>\n",
              "  </thead>\n",
              "  <tbody>\n",
              "    <tr>\n",
              "      <th>0</th>\n",
              "      <td>II</td>\n",
              "      <td>&gt;10yrs</td>\n",
              "      <td>Vfied</td>\n",
              "      <td>MOR??AGE</td>\n",
              "      <td>GLENDALE NISSAN</td>\n",
              "      <td>fully paid</td>\n",
              "      <td>California</td>\n",
              "      <td>3 years</td>\n",
              "      <td>debt  consolidation</td>\n",
              "      <td>I</td>\n",
              "      <td>0</td>\n",
              "    </tr>\n",
              "    <tr>\n",
              "      <th>1</th>\n",
              "      <td>IV</td>\n",
              "      <td>7yrs</td>\n",
              "      <td>Source Verified</td>\n",
              "      <td>REN?</td>\n",
              "      <td>Business Teacher</td>\n",
              "      <td>whole</td>\n",
              "      <td>NC</td>\n",
              "      <td>5 years</td>\n",
              "      <td>debt  consolidation</td>\n",
              "      <td>I</td>\n",
              "      <td>0</td>\n",
              "    </tr>\n",
              "    <tr>\n",
              "      <th>2</th>\n",
              "      <td>III</td>\n",
              "      <td>&lt;1yr</td>\n",
              "      <td>Source Verified</td>\n",
              "      <td>REN?</td>\n",
              "      <td>driver</td>\n",
              "      <td>whole</td>\n",
              "      <td>Florida</td>\n",
              "      <td>5 years</td>\n",
              "      <td>major  purchase</td>\n",
              "      <td>I</td>\n",
              "      <td>0</td>\n",
              "    </tr>\n",
              "    <tr>\n",
              "      <th>3</th>\n",
              "      <td>III</td>\n",
              "      <td>&lt;1yr</td>\n",
              "      <td>Vfied</td>\n",
              "      <td>REN?</td>\n",
              "      <td>AvePoint</td>\n",
              "      <td>fully paid</td>\n",
              "      <td>NewJersey</td>\n",
              "      <td>3 years</td>\n",
              "      <td>major  purchase</td>\n",
              "      <td>I</td>\n",
              "      <td>1</td>\n",
              "    </tr>\n",
              "    <tr>\n",
              "      <th>4</th>\n",
              "      <td>V</td>\n",
              "      <td>2yrs</td>\n",
              "      <td>Source Verified</td>\n",
              "      <td>REN?</td>\n",
              "      <td>Lead Tester</td>\n",
              "      <td>fully paid</td>\n",
              "      <td>LA</td>\n",
              "      <td>5 years</td>\n",
              "      <td>debt  consolidation</td>\n",
              "      <td>I</td>\n",
              "      <td>0</td>\n",
              "    </tr>\n",
              "    <tr>\n",
              "      <th>...</th>\n",
              "      <td>...</td>\n",
              "      <td>...</td>\n",
              "      <td>...</td>\n",
              "      <td>...</td>\n",
              "      <td>...</td>\n",
              "      <td>...</td>\n",
              "      <td>...</td>\n",
              "      <td>...</td>\n",
              "      <td>...</td>\n",
              "      <td>...</td>\n",
              "      <td>...</td>\n",
              "    </tr>\n",
              "    <tr>\n",
              "      <th>87495</th>\n",
              "      <td>II</td>\n",
              "      <td>&gt;10yrs</td>\n",
              "      <td>Not Vfied</td>\n",
              "      <td>REN?</td>\n",
              "      <td>Engineer Support II</td>\n",
              "      <td>whole</td>\n",
              "      <td>MI</td>\n",
              "      <td>3 years</td>\n",
              "      <td>debt  consolidation</td>\n",
              "      <td>I</td>\n",
              "      <td>0</td>\n",
              "    </tr>\n",
              "    <tr>\n",
              "      <th>87496</th>\n",
              "      <td>IV</td>\n",
              "      <td>3yrs</td>\n",
              "      <td>Source Verified</td>\n",
              "      <td>REN?</td>\n",
              "      <td>Dental Hygienist</td>\n",
              "      <td>whole</td>\n",
              "      <td>MA</td>\n",
              "      <td>5 years</td>\n",
              "      <td>debt  consolidation</td>\n",
              "      <td>I</td>\n",
              "      <td>0</td>\n",
              "    </tr>\n",
              "    <tr>\n",
              "      <th>87497</th>\n",
              "      <td>II</td>\n",
              "      <td>&gt;10yrs</td>\n",
              "      <td>Source Verified</td>\n",
              "      <td>MOR??AGE</td>\n",
              "      <td>Interface Coordinator</td>\n",
              "      <td>fully paid</td>\n",
              "      <td>CT</td>\n",
              "      <td>3 years</td>\n",
              "      <td>debt  consolidation</td>\n",
              "      <td>I</td>\n",
              "      <td>0</td>\n",
              "    </tr>\n",
              "    <tr>\n",
              "      <th>87498</th>\n",
              "      <td>III</td>\n",
              "      <td>1yrs</td>\n",
              "      <td>Source Verified</td>\n",
              "      <td>MOR??AGE</td>\n",
              "      <td>PARTS CLERK</td>\n",
              "      <td>whole</td>\n",
              "      <td>PA</td>\n",
              "      <td>3 years</td>\n",
              "      <td>debt  consolidation</td>\n",
              "      <td>I</td>\n",
              "      <td>0</td>\n",
              "    </tr>\n",
              "    <tr>\n",
              "      <th>87499</th>\n",
              "      <td>III</td>\n",
              "      <td>2yrs</td>\n",
              "      <td>Vfied</td>\n",
              "      <td>REN?</td>\n",
              "      <td>Outside sales rep</td>\n",
              "      <td>whole</td>\n",
              "      <td>California</td>\n",
              "      <td>5 years</td>\n",
              "      <td>debt  consolidation</td>\n",
              "      <td>I</td>\n",
              "      <td>0</td>\n",
              "    </tr>\n",
              "  </tbody>\n",
              "</table>\n",
              "<p>87500 rows × 11 columns</p>\n",
              "</div>\n",
              "      <button class=\"colab-df-convert\" onclick=\"convertToInteractive('df-5cfff4a4-8c64-4ee7-a0d2-36b2858d648d')\"\n",
              "              title=\"Convert this dataframe to an interactive table.\"\n",
              "              style=\"display:none;\">\n",
              "        \n",
              "  <svg xmlns=\"http://www.w3.org/2000/svg\" height=\"24px\"viewBox=\"0 0 24 24\"\n",
              "       width=\"24px\">\n",
              "    <path d=\"M0 0h24v24H0V0z\" fill=\"none\"/>\n",
              "    <path d=\"M18.56 5.44l.94 2.06.94-2.06 2.06-.94-2.06-.94-.94-2.06-.94 2.06-2.06.94zm-11 1L8.5 8.5l.94-2.06 2.06-.94-2.06-.94L8.5 2.5l-.94 2.06-2.06.94zm10 10l.94 2.06.94-2.06 2.06-.94-2.06-.94-.94-2.06-.94 2.06-2.06.94z\"/><path d=\"M17.41 7.96l-1.37-1.37c-.4-.4-.92-.59-1.43-.59-.52 0-1.04.2-1.43.59L10.3 9.45l-7.72 7.72c-.78.78-.78 2.05 0 2.83L4 21.41c.39.39.9.59 1.41.59.51 0 1.02-.2 1.41-.59l7.78-7.78 2.81-2.81c.8-.78.8-2.07 0-2.86zM5.41 20L4 18.59l7.72-7.72 1.47 1.35L5.41 20z\"/>\n",
              "  </svg>\n",
              "      </button>\n",
              "      \n",
              "  <style>\n",
              "    .colab-df-container {\n",
              "      display:flex;\n",
              "      flex-wrap:wrap;\n",
              "      gap: 12px;\n",
              "    }\n",
              "\n",
              "    .colab-df-convert {\n",
              "      background-color: #E8F0FE;\n",
              "      border: none;\n",
              "      border-radius: 50%;\n",
              "      cursor: pointer;\n",
              "      display: none;\n",
              "      fill: #1967D2;\n",
              "      height: 32px;\n",
              "      padding: 0 0 0 0;\n",
              "      width: 32px;\n",
              "    }\n",
              "\n",
              "    .colab-df-convert:hover {\n",
              "      background-color: #E2EBFA;\n",
              "      box-shadow: 0px 1px 2px rgba(60, 64, 67, 0.3), 0px 1px 3px 1px rgba(60, 64, 67, 0.15);\n",
              "      fill: #174EA6;\n",
              "    }\n",
              "\n",
              "    [theme=dark] .colab-df-convert {\n",
              "      background-color: #3B4455;\n",
              "      fill: #D2E3FC;\n",
              "    }\n",
              "\n",
              "    [theme=dark] .colab-df-convert:hover {\n",
              "      background-color: #434B5C;\n",
              "      box-shadow: 0px 1px 3px 1px rgba(0, 0, 0, 0.15);\n",
              "      filter: drop-shadow(0px 1px 2px rgba(0, 0, 0, 0.3));\n",
              "      fill: #FFFFFF;\n",
              "    }\n",
              "  </style>\n",
              "\n",
              "      <script>\n",
              "        const buttonEl =\n",
              "          document.querySelector('#df-5cfff4a4-8c64-4ee7-a0d2-36b2858d648d button.colab-df-convert');\n",
              "        buttonEl.style.display =\n",
              "          google.colab.kernel.accessAllowed ? 'block' : 'none';\n",
              "\n",
              "        async function convertToInteractive(key) {\n",
              "          const element = document.querySelector('#df-5cfff4a4-8c64-4ee7-a0d2-36b2858d648d');\n",
              "          const dataTable =\n",
              "            await google.colab.kernel.invokeFunction('convertToInteractive',\n",
              "                                                     [key], {});\n",
              "          if (!dataTable) return;\n",
              "\n",
              "          const docLinkHtml = 'Like what you see? Visit the ' +\n",
              "            '<a target=\"_blank\" href=https://colab.research.google.com/notebooks/data_table.ipynb>data table notebook</a>'\n",
              "            + ' to learn more about interactive tables.';\n",
              "          element.innerHTML = '';\n",
              "          dataTable['output_type'] = 'display_data';\n",
              "          await google.colab.output.renderOutput(dataTable, element);\n",
              "          const docLink = document.createElement('div');\n",
              "          docLink.innerHTML = docLinkHtml;\n",
              "          element.appendChild(docLink);\n",
              "        }\n",
              "      </script>\n",
              "    </div>\n",
              "  </div>\n",
              "  "
            ]
          },
          "metadata": {},
          "execution_count": 16
        }
      ],
      "source": [
        "df_cat"
      ]
    },
    {
      "cell_type": "code",
      "execution_count": null,
      "id": "dacb9c00",
      "metadata": {
        "colab": {
          "base_uri": "https://localhost:8080/"
        },
        "id": "dacb9c00",
        "outputId": "0f1342f1-9c71-417f-f3d1-aaf729b744e6"
      },
      "outputs": [
        {
          "output_type": "execute_result",
          "data": {
            "text/plain": [
              "MOR??AGE    44160\n",
              "REN?        34914\n",
              "OWN          8416\n",
              "OTHER           6\n",
              "NONE            4\n",
              "Name: Home Status, dtype: int64"
            ]
          },
          "metadata": {},
          "execution_count": 17
        }
      ],
      "source": [
        "df['Home Status'].value_counts()\n"
      ]
    },
    {
      "cell_type": "code",
      "execution_count": null,
      "id": "00dcf1fb",
      "metadata": {
        "id": "00dcf1fb"
      },
      "outputs": [],
      "source": [
        "df['Home Status'].replace('MOR??AGE','MORTGAGE',inplace = True)\n"
      ]
    },
    {
      "cell_type": "code",
      "execution_count": null,
      "id": "0c7525ce",
      "metadata": {
        "id": "0c7525ce"
      },
      "outputs": [],
      "source": [
        "df['Home Status'] = df['Home Status'].str.replace('?','T')"
      ]
    },
    {
      "cell_type": "code",
      "execution_count": null,
      "id": "979e3b9d",
      "metadata": {
        "colab": {
          "base_uri": "https://localhost:8080/"
        },
        "id": "979e3b9d",
        "outputId": "c82fafc8-2fba-4376-c2e4-c566cc2ee4a6"
      },
      "outputs": [
        {
          "output_type": "execute_result",
          "data": {
            "text/plain": [
              "MORTGAGE    44160\n",
              "RENT        34914\n",
              "OWN          8416\n",
              "OTHER           6\n",
              "NONE            4\n",
              "Name: Home Status, dtype: int64"
            ]
          },
          "metadata": {},
          "execution_count": 20
        }
      ],
      "source": [
        "df['Home Status'].value_counts()"
      ]
    },
    {
      "cell_type": "code",
      "execution_count": null,
      "id": "1e00415b",
      "metadata": {
        "colab": {
          "base_uri": "https://localhost:8080/"
        },
        "id": "1e00415b",
        "outputId": "b68a8046-1e1f-49a1-d15a-6f3e082eb1f4"
      },
      "outputs": [
        {
          "output_type": "execute_result",
          "data": {
            "text/plain": [
              "Source Verified    34504\n",
              "Vfied              26642\n",
              "Not Vfied          26354\n",
              "Name: Validation, dtype: int64"
            ]
          },
          "metadata": {},
          "execution_count": 21
        }
      ],
      "source": [
        "df['Validation'].value_counts()"
      ]
    },
    {
      "cell_type": "code",
      "execution_count": null,
      "id": "e422a0b3",
      "metadata": {
        "id": "e422a0b3"
      },
      "outputs": [],
      "source": [
        "df['Validation'].replace('Vfied','Verified',inplace = True)\n",
        "df['Validation'].replace('Not Vfied','Not Verified',inplace = True)\n"
      ]
    },
    {
      "cell_type": "code",
      "execution_count": null,
      "id": "845fab6d",
      "metadata": {
        "colab": {
          "base_uri": "https://localhost:8080/"
        },
        "id": "845fab6d",
        "outputId": "67ad1008-d3a3-48ef-d3a1-c53b85277b8e"
      },
      "outputs": [
        {
          "output_type": "execute_result",
          "data": {
            "text/plain": [
              "Source Verified    34504\n",
              "Verified           26642\n",
              "Not Verified       26354\n",
              "Name: Validation, dtype: int64"
            ]
          },
          "metadata": {},
          "execution_count": 23
        }
      ],
      "source": [
        "df['Validation'].value_counts()"
      ]
    },
    {
      "cell_type": "markdown",
      "id": "15a92006",
      "metadata": {
        "id": "15a92006"
      },
      "source": [
        "# DATA CLEANING (TEST DATA)"
      ]
    },
    {
      "cell_type": "code",
      "execution_count": null,
      "id": "dea5e391",
      "metadata": {
        "id": "dea5e391"
      },
      "outputs": [],
      "source": [
        ""
      ]
    },
    {
      "cell_type": "code",
      "execution_count": null,
      "id": "372cc8c4",
      "metadata": {
        "colab": {
          "base_uri": "https://localhost:8080/"
        },
        "id": "372cc8c4",
        "outputId": "e34eeb1d-577e-43b0-ee81-cfa454c2c783"
      },
      "outputs": [
        {
          "output_type": "execute_result",
          "data": {
            "text/plain": [
              "ID                        0\n",
              "Asst_Reg                  0\n",
              "GGGrade                   0\n",
              "Experience                0\n",
              "Validation                0\n",
              "Yearly Income          2425\n",
              "Home Status               0\n",
              "Unpaid 2 years            0\n",
              "Already Defaulted         0\n",
              "Designation             586\n",
              "Debt to Income         1511\n",
              "Postal Code             611\n",
              "Lend Amount               0\n",
              "Deprecatory Records       0\n",
              "Interest Charged          0\n",
              "Usage Rate                0\n",
              "Inquiries                 0\n",
              "Present Balance           0\n",
              "Gross Collection          0\n",
              "Sub GGGrade               0\n",
              "File Status               0\n",
              "State                     0\n",
              "Account Open              0\n",
              "Total Unpaid CL        1814\n",
              "Duration                  0\n",
              "Unpaid Amount          2069\n",
              "Reason                    0\n",
              "Claim Type                0\n",
              "Due Fee                   0\n",
              "dtype: int64"
            ]
          },
          "metadata": {},
          "execution_count": 24
        }
      ],
      "source": [
        "df_test.isnull().sum()"
      ]
    },
    {
      "cell_type": "code",
      "execution_count": null,
      "id": "12ad8bbe",
      "metadata": {
        "colab": {
          "base_uri": "https://localhost:8080/"
        },
        "id": "12ad8bbe",
        "outputId": "7c040ddf-21f5-438f-bdab-657df678c031"
      },
      "outputs": [
        {
          "output_type": "execute_result",
          "data": {
            "text/plain": [
              "Index(['ID', 'Asst_Reg', 'Yearly Income', 'Unpaid 2 years',\n",
              "       'Already Defaulted', 'Debt to Income', 'Postal Code', 'Lend Amount',\n",
              "       'Deprecatory Records', 'Interest Charged', 'Usage Rate', 'Inquiries',\n",
              "       'Present Balance', 'Gross Collection', 'Sub GGGrade', 'Account Open',\n",
              "       'Total Unpaid CL', 'Unpaid Amount', 'Due Fee'],\n",
              "      dtype='object')"
            ]
          },
          "metadata": {},
          "execution_count": 25
        }
      ],
      "source": [
        "df_test_num = df_test.select_dtypes(np.number)\n",
        "df_test_num.columns"
      ]
    },
    {
      "cell_type": "code",
      "execution_count": null,
      "id": "ce0006ba",
      "metadata": {
        "scrolled": true,
        "colab": {
          "base_uri": "https://localhost:8080/"
        },
        "id": "ce0006ba",
        "outputId": "8f304e15-a780-4ae6-d02b-3840a0562571"
      },
      "outputs": [
        {
          "output_type": "execute_result",
          "data": {
            "text/plain": [
              "ID                        0\n",
              "Asst_Reg                  0\n",
              "Yearly Income          2425\n",
              "Unpaid 2 years            0\n",
              "Already Defaulted         0\n",
              "Debt to Income         1511\n",
              "Postal Code             611\n",
              "Lend Amount               0\n",
              "Deprecatory Records       0\n",
              "Interest Charged          0\n",
              "Usage Rate                0\n",
              "Inquiries                 0\n",
              "Present Balance           0\n",
              "Gross Collection          0\n",
              "Sub GGGrade               0\n",
              "Account Open              0\n",
              "Total Unpaid CL        1814\n",
              "Unpaid Amount          2069\n",
              "Due Fee                   0\n",
              "dtype: int64"
            ]
          },
          "metadata": {},
          "execution_count": 26
        }
      ],
      "source": [
        "df_test_num.isnull().sum()"
      ]
    },
    {
      "cell_type": "code",
      "execution_count": null,
      "id": "67a6c895",
      "metadata": {
        "colab": {
          "base_uri": "https://localhost:8080/"
        },
        "id": "67a6c895",
        "outputId": "090ebb11-9529-4258-fd1d-33c750ab4bb5"
      },
      "outputs": [
        {
          "output_type": "execute_result",
          "data": {
            "text/plain": [
              "ID                     0\n",
              "Asst_Reg               0\n",
              "Yearly Income          0\n",
              "Unpaid 2 years         0\n",
              "Already Defaulted      0\n",
              "Debt to Income         0\n",
              "Postal Code            0\n",
              "Lend Amount            0\n",
              "Deprecatory Records    0\n",
              "Interest Charged       0\n",
              "Usage Rate             0\n",
              "Inquiries              0\n",
              "Present Balance        0\n",
              "Gross Collection       0\n",
              "Sub GGGrade            0\n",
              "Account Open           0\n",
              "Total Unpaid CL        0\n",
              "Unpaid Amount          0\n",
              "Due Fee                0\n",
              "dtype: int64"
            ]
          },
          "metadata": {},
          "execution_count": 27
        }
      ],
      "source": [
        "from sklearn.impute import SimpleImputer\n",
        "sim = SimpleImputer(strategy = 'median').fit_transform(df_test_num.values)\n",
        "df_test_num = pd.DataFrame(sim,index = df_test_num.index,columns = df_test_num.columns)\n",
        "\n",
        "df_test_num.isnull().sum()"
      ]
    },
    {
      "cell_type": "code",
      "execution_count": null,
      "id": "6403e1cb",
      "metadata": {
        "colab": {
          "base_uri": "https://localhost:8080/"
        },
        "id": "6403e1cb",
        "outputId": "8eb94a8a-06b7-448d-aa3e-ce5624673f51"
      },
      "outputs": [
        {
          "output_type": "execute_result",
          "data": {
            "text/plain": [
              "Index(['GGGrade', 'Experience', 'Validation', 'Home Status', 'Designation',\n",
              "       'File Status', 'State', 'Duration', 'Reason', 'Claim Type'],\n",
              "      dtype='object')"
            ]
          },
          "metadata": {},
          "execution_count": 28
        }
      ],
      "source": [
        "df_test_cat = df_test.select_dtypes('O')\n",
        "df_test_cat.columns"
      ]
    },
    {
      "cell_type": "code",
      "execution_count": null,
      "id": "b723199c",
      "metadata": {
        "colab": {
          "base_uri": "https://localhost:8080/"
        },
        "id": "b723199c",
        "outputId": "dc39e2bd-e05c-43db-a05c-68304adc9e0c"
      },
      "outputs": [
        {
          "output_type": "execute_result",
          "data": {
            "text/plain": [
              "GGGrade          0\n",
              "Experience       0\n",
              "Validation       0\n",
              "Home Status      0\n",
              "Designation    586\n",
              "File Status      0\n",
              "State            0\n",
              "Duration         0\n",
              "Reason           0\n",
              "Claim Type       0\n",
              "dtype: int64"
            ]
          },
          "metadata": {},
          "execution_count": 29
        }
      ],
      "source": [
        "df_test_cat.isnull().sum()"
      ]
    },
    {
      "cell_type": "code",
      "execution_count": null,
      "id": "68cd4ae5",
      "metadata": {
        "colab": {
          "base_uri": "https://localhost:8080/"
        },
        "id": "68cd4ae5",
        "outputId": "78959f2a-5452-4256-d91f-fb3b10ca3676"
      },
      "outputs": [
        {
          "output_type": "execute_result",
          "data": {
            "text/plain": [
              "GGGrade        0\n",
              "Experience     0\n",
              "Validation     0\n",
              "Home Status    0\n",
              "Designation    0\n",
              "File Status    0\n",
              "State          0\n",
              "Duration       0\n",
              "Reason         0\n",
              "Claim Type     0\n",
              "dtype: int64"
            ]
          },
          "metadata": {},
          "execution_count": 30
        }
      ],
      "source": [
        "si = SimpleImputer(strategy = 'most_frequent').fit_transform(df_test_cat.values)\n",
        "df_test_cat = pd.DataFrame(si,index = df_test_cat.index,columns = df_test_cat.columns)\n",
        "\n",
        "df_test_cat.isnull().sum()"
      ]
    },
    {
      "cell_type": "code",
      "execution_count": null,
      "id": "77fa8831",
      "metadata": {
        "colab": {
          "base_uri": "https://localhost:8080/"
        },
        "id": "77fa8831",
        "outputId": "0014970c-00b2-4e3c-a25c-778ca9535eeb"
      },
      "outputs": [
        {
          "output_type": "execute_result",
          "data": {
            "text/plain": [
              "ID                     0\n",
              "Asst_Reg               0\n",
              "Yearly Income          0\n",
              "Unpaid 2 years         0\n",
              "Already Defaulted      0\n",
              "Debt to Income         0\n",
              "Postal Code            0\n",
              "Lend Amount            0\n",
              "Deprecatory Records    0\n",
              "Interest Charged       0\n",
              "Usage Rate             0\n",
              "Inquiries              0\n",
              "Present Balance        0\n",
              "Gross Collection       0\n",
              "Sub GGGrade            0\n",
              "Account Open           0\n",
              "Total Unpaid CL        0\n",
              "Unpaid Amount          0\n",
              "Due Fee                0\n",
              "GGGrade                0\n",
              "Experience             0\n",
              "Validation             0\n",
              "Home Status            0\n",
              "Designation            0\n",
              "File Status            0\n",
              "State                  0\n",
              "Duration               0\n",
              "Reason                 0\n",
              "Claim Type             0\n",
              "dtype: int64"
            ]
          },
          "metadata": {},
          "execution_count": 31
        }
      ],
      "source": [
        "df_test = pd.concat([df_test_num,df_test_cat],axis = 1)\n",
        "df_test.isnull().sum()"
      ]
    },
    {
      "cell_type": "code",
      "execution_count": null,
      "id": "fd6e9060",
      "metadata": {
        "colab": {
          "base_uri": "https://localhost:8080/"
        },
        "id": "fd6e9060",
        "outputId": "98583612-c5ee-46ac-9378-ea9be1a50de9"
      },
      "outputs": [
        {
          "output_type": "execute_result",
          "data": {
            "text/plain": [
              "MOR??AGE    18912\n",
              "REN?        14992\n",
              "OWN          3592\n",
              "NONE            2\n",
              "OTHER           2\n",
              "Name: Home Status, dtype: int64"
            ]
          },
          "metadata": {},
          "execution_count": 32
        }
      ],
      "source": [
        "df_test['Home Status'].value_counts()\n"
      ]
    },
    {
      "cell_type": "code",
      "execution_count": null,
      "id": "1c7abce5",
      "metadata": {
        "id": "1c7abce5"
      },
      "outputs": [],
      "source": [
        "df_test['Home Status'].replace('MOR??AGE','MORTGAGE',inplace = True)\n",
        "df_test['Home Status'] = df['Home Status'].str.replace('?','T')"
      ]
    },
    {
      "cell_type": "code",
      "execution_count": null,
      "id": "23106c1f",
      "metadata": {
        "colab": {
          "base_uri": "https://localhost:8080/"
        },
        "id": "23106c1f",
        "outputId": "8b6834de-8547-4002-d547-0e5661081b8d"
      },
      "outputs": [
        {
          "output_type": "execute_result",
          "data": {
            "text/plain": [
              "Source Verified    14646\n",
              "Not Vfied          11488\n",
              "Vfied              11366\n",
              "Name: Validation, dtype: int64"
            ]
          },
          "metadata": {},
          "execution_count": 34
        }
      ],
      "source": [
        "df_test['Validation'].value_counts()"
      ]
    },
    {
      "cell_type": "code",
      "execution_count": null,
      "id": "3f9ec2e4",
      "metadata": {
        "id": "3f9ec2e4"
      },
      "outputs": [],
      "source": [
        "df_test['Validation'].replace('Vfied','Verified',inplace = True)\n",
        "df_test['Validation'].replace('Not Vfied','Not Verified',inplace = True)\n"
      ]
    },
    {
      "cell_type": "code",
      "execution_count": null,
      "id": "a21ea5e5",
      "metadata": {
        "id": "a21ea5e5"
      },
      "outputs": [],
      "source": [
        "df['Loan/No Loan'] = df['Loan/No Loan'].astype('int')\n"
      ]
    },
    {
      "cell_type": "code",
      "execution_count": null,
      "id": "bff2690e",
      "metadata": {
        "colab": {
          "base_uri": "https://localhost:8080/",
          "height": 600
        },
        "id": "bff2690e",
        "outputId": "630ff469-b032-4c7a-cac5-7e531a489ce3"
      },
      "outputs": [
        {
          "output_type": "display_data",
          "data": {
            "text/plain": [
              "<Figure size 1440x720 with 1 Axes>"
            ],
            "image/png": "[encoded data removed]"
          },
          "metadata": {}
        }
      ],
      "source": [
        "fig, axs = plt.subplots(figsize=(20, 10))\n",
        "sizes = [df['Loan/No Loan'][df['Loan/No Loan']==1].count(), df['Loan/No Loan'][df['Loan/No Loan']==0].count()]\n",
        "axs.pie(sizes, explode=(0, 0.1), labels=['Non-defaulter', 'Defaulter'], autopct='%1.1f%%',shadow=True)\n",
        "axs.axis('equal')\n",
        "plt.title(\"Defaulter Proportion\", size = 25)\n",
        "plt.show()"
      ]
    },
    {
      "cell_type": "code",
      "execution_count": null,
      "id": "303e3a00",
      "metadata": {
        "scrolled": true,
        "id": "303e3a00"
      },
      "outputs": [],
      "source": [
        ""
      ]
    },
    {
      "cell_type": "code",
      "execution_count": null,
      "id": "75f98e87",
      "metadata": {
        "scrolled": true,
        "colab": {
          "base_uri": "https://localhost:8080/",
          "height": 823
        },
        "id": "75f98e87",
        "outputId": "4c4f26d2-de19-4d28-bb6e-44047fe0e6ef"
      },
      "outputs": [
        {
          "output_type": "display_data",
          "data": {
            "text/plain": [
              "<Figure size 1080x1008 with 12 Axes>"
            ],
            "image/png": "[encoded data removed]"
          },
          "metadata": {
            "needs_background": "light"
          }
        }
      ],
      "source": [
        "fig,ax = plt.subplots(nrows = 4,ncols = 3,figsize = (15,14))\n",
        "df_num = df.select_dtypes(np.number)\n",
        "for i,j in zip(df_num.columns,ax.flatten()):\n",
        "    sns.histplot(df_num[i],ax = j)\n",
        "    \n",
        "    \n",
        "plt.show()"
      ]
    },
    {
      "cell_type": "code",
      "execution_count": null,
      "id": "b8f7fe26",
      "metadata": {
        "id": "b8f7fe26"
      },
      "outputs": [],
      "source": [
        ""
      ]
    },
    {
      "cell_type": "code",
      "execution_count": null,
      "id": "7143e3fd",
      "metadata": {
        "colab": {
          "base_uri": "https://localhost:8080/",
          "height": 823
        },
        "id": "7143e3fd",
        "outputId": "39614300-6351-4a2e-baaa-25b0e561a6de"
      },
      "outputs": [
        {
          "output_type": "display_data",
          "data": {
            "text/plain": [
              "<Figure size 2160x1080 with 2 Axes>"
            ],
            "image/png": "[encoded data removed]"
          },
          "metadata": {
            "needs_background": "light"
          }
        }
      ],
      "source": [
        "plt.figure(figsize = (30,15))\n",
        "\n",
        "sns.heatmap(df.corr(),annot = True)\n",
        "\n",
        "plt.show()"
      ]
    },
    {
      "cell_type": "code",
      "execution_count": null,
      "id": "d228dcb4",
      "metadata": {
        "id": "d228dcb4"
      },
      "outputs": [],
      "source": [
        "#Dropping unwanted columns \n",
        "\n",
        "\n"
      ]
    },
    {
      "cell_type": "code",
      "execution_count": null,
      "id": "d36eb14b",
      "metadata": {
        "id": "d36eb14b"
      },
      "outputs": [],
      "source": [
        ""
      ]
    },
    {
      "cell_type": "code",
      "execution_count": null,
      "id": "54eda556",
      "metadata": {
        "id": "54eda556"
      },
      "outputs": [],
      "source": [
        ""
      ]
    },
    {
      "cell_type": "code",
      "execution_count": null,
      "id": "15e91623",
      "metadata": {
        "id": "15e91623"
      },
      "outputs": [],
      "source": [
        ""
      ]
    },
    {
      "cell_type": "code",
      "source": [
        "df.columns"
      ],
      "metadata": {
        "colab": {
          "base_uri": "https://localhost:8080/"
        },
        "id": "zh9GlJSu_uRP",
        "outputId": "c0947d5e-5c6f-4aa2-85e1-2e28cdd9bff5"
      },
      "id": "zh9GlJSu_uRP",
      "execution_count": null,
      "outputs": [
        {
          "output_type": "execute_result",
          "data": {
            "text/plain": [
              "Index(['ID', 'Asst_Reg', 'Yearly Income', 'Unpaid 2 years',\n",
              "       'Already Defaulted', 'Debt to Income', 'Postal Code', 'Lend Amount',\n",
              "       'Deprecatory Records', 'Interest Charged', 'Usage Rate', 'Inquiries',\n",
              "       'Present Balance', 'Gross Collection', 'Sub GGGrade', 'Account Open',\n",
              "       'Total Unpaid CL', 'Unpaid Amount', 'Due Fee', 'GGGrade', 'Experience',\n",
              "       'Validation', 'Home Status', 'Designation', 'File Status', 'State',\n",
              "       'Duration', 'Reason', 'Claim Type', 'Loan/No Loan'],\n",
              "      dtype='object')"
            ]
          },
          "metadata": {},
          "execution_count": 41
        }
      ]
    },
    {
      "cell_type": "code",
      "source": [
        "y = df['Loan/No Loan']\n",
        "features = ['Unpaid 2 years','Inquiries','Home Status','Validation','Present Balance','Interest Charged','Asst_Reg','Gross Collection','Reason']\n",
        "X = df[features]\n",
        "\n",
        "X = pd.get_dummies(X,drop_first = True)\n",
        "\n",
        "\n",
        "X_test = df_test[features]\n",
        "\n",
        "X_test = pd.get_dummies(X_test,drop_first = True)\n",
        "\n"
      ],
      "metadata": {
        "id": "y7qfz4Z8AiqV"
      },
      "id": "y7qfz4Z8AiqV",
      "execution_count": null,
      "outputs": []
    },
    {
      "cell_type": "code",
      "execution_count": null,
      "id": "517f8d8b",
      "metadata": {
        "id": "517f8d8b",
        "colab": {
          "base_uri": "https://localhost:8080/"
        },
        "outputId": "2f899289-e3c9-47d3-9b9c-fe020b21577e"
      },
      "outputs": [
        {
          "output_type": "stream",
          "name": "stdout",
          "text": [
            "0.9999428571428571\n"
          ]
        }
      ],
      "source": [
        "from sklearn.ensemble import RandomForestClassifier\n",
        "model = RandomForestClassifier(random_state=1,n_jobs = -1)\n",
        "model.fit(X, y)\n",
        "predictions = model.predict(X_test)\n",
        "score = model.score(X,y)\n",
        "print(score)\n",
        "\n",
        "\n",
        "\n"
      ]
    },
    {
      "cell_type": "code",
      "source": [
        "from sklearn.model_selection import GridSearchCV\n",
        "\n",
        "tuned_params = [{'criterion':['gini','entropy'],'max_depth': range(2,10),'min_samples_split' : range(2,10)}]\n",
        "\n",
        "grid_rf = GridSearchCV(estimator = RandomForestClassifier(random_state = 1),param_grid = tuned_params,cv = 5)\n",
        "\n",
        "grid_rf.fit(X,y)"
      ],
      "metadata": {
        "colab": {
          "base_uri": "https://localhost:8080/"
        },
        "id": "F8c9tDGcEA3s",
        "outputId": "50f7e04f-e19d-4699-b388-592fadfd0b73"
      },
      "id": "F8c9tDGcEA3s",
      "execution_count": null,
      "outputs": [
        {
          "output_type": "execute_result",
          "data": {
            "text/plain": [
              "GridSearchCV(cv=5, estimator=RandomForestClassifier(random_state=1),\n",
              "             param_grid=[{'criterion': ['gini', 'entropy'],\n",
              "                          'max_depth': range(2, 10),\n",
              "                          'min_samples_split': range(2, 10)}])"
            ]
          },
          "metadata": {},
          "execution_count": 44
        }
      ]
    },
    {
      "cell_type": "code",
      "source": [
        "grid_rf.best_params_"
      ],
      "metadata": {
        "colab": {
          "base_uri": "https://localhost:8080/"
        },
        "id": "Xir9USXFEEUF",
        "outputId": "dcbebeaf-0d9f-410c-c310-8f8190a5ff25"
      },
      "id": "Xir9USXFEEUF",
      "execution_count": null,
      "outputs": [
        {
          "output_type": "execute_result",
          "data": {
            "text/plain": [
              "{'criterion': 'gini', 'max_depth': 9, 'min_samples_split': 6}"
            ]
          },
          "metadata": {},
          "execution_count": 46
        }
      ]
    },
    {
      "cell_type": "code",
      "source": [
        "model_final = RandomForestClassifier(criterion = 'gini', max_depth = 9, min_samples_split = 6, random_state=1,n_jobs = -1)\n",
        "model_final.fit(X, y)\n",
        "predictions_final = model_final.predict(X_test)\n",
        "score_final = model_final.score(X,y)\n",
        "print(score_final)\n"
      ],
      "metadata": {
        "colab": {
          "base_uri": "https://localhost:8080/"
        },
        "id": "b_tPUYLvQguw",
        "outputId": "d838d79c-340c-4794-f1be-e0a9d20b31aa"
      },
      "id": "b_tPUYLvQguw",
      "execution_count": null,
      "outputs": [
        {
          "output_type": "stream",
          "name": "stdout",
          "text": [
            "0.83512\n"
          ]
        }
      ]
    },
    {
      "cell_type": "code",
      "source": [
        "output = pd.DataFrame({'ID': df_test.ID, 'Loan/No Loan': predictions_final})\n",
        "output.to_csv('submission_loan.csv', index=False)"
      ],
      "metadata": {
        "id": "DbPRb0MpDpgB"
      },
      "id": "DbPRb0MpDpgB",
      "execution_count": null,
      "outputs": []
    },
    {
      "cell_type": "code",
      "execution_count": 52,
      "id": "726de0a2",
      "metadata": {
        "id": "726de0a2",
        "colab": {
          "base_uri": "https://localhost:8080/"
        },
        "outputId": "6bb71161-e18a-4813-fa5a-c0332015411a"
      },
      "outputs": [
        {
          "output_type": "stream",
          "name": "stdout",
          "text": [
            "1.0\n"
          ]
        }
      ],
      "source": [
        "from sklearn.tree import DecisionTreeClassifier\n",
        "\n",
        "model_dtc = DecisionTreeClassifier(random_state=1)\n",
        "\n",
        "model_dtc.fit(X, y)\n",
        "predictions_dtc = model_dtc.predict(X_test)\n",
        "score_dtc = model_dtc.score(X,y)\n",
        "print(score_dtc)"
      ]
    },
    {
      "cell_type": "code",
      "execution_count": 53,
      "id": "d5f24d3b",
      "metadata": {
        "id": "d5f24d3b",
        "colab": {
          "base_uri": "https://localhost:8080/"
        },
        "outputId": "0ff33620-713a-43d6-efe1-cddee53b7971"
      },
      "outputs": [
        {
          "output_type": "execute_result",
          "data": {
            "text/plain": [
              "GridSearchCV(cv=5, estimator=DecisionTreeClassifier(random_state=1),\n",
              "             param_grid=[{'criterion': ['gini', 'entropy'],\n",
              "                          'max_depth': range(2, 10),\n",
              "                          'min_samples_split': range(2, 10)}])"
            ]
          },
          "metadata": {},
          "execution_count": 53
        }
      ],
      "source": [
        "\n",
        "\n",
        "tuned_params = [{'criterion':['gini','entropy'],'max_depth': range(2,10),'min_samples_split' : range(2,10)}]\n",
        "\n",
        "grid_dtc = GridSearchCV(estimator = DecisionTreeClassifier(random_state = 1),param_grid = tuned_params,cv = 5)\n",
        "\n",
        "grid_dtc.fit(X,y)"
      ]
    },
    {
      "cell_type": "code",
      "execution_count": 54,
      "id": "5a392d69",
      "metadata": {
        "id": "5a392d69",
        "colab": {
          "base_uri": "https://localhost:8080/"
        },
        "outputId": "1fef0edf-7cc8-43f8-9f4e-52be6d1bef11"
      },
      "outputs": [
        {
          "output_type": "execute_result",
          "data": {
            "text/plain": [
              "{'criterion': 'gini', 'max_depth': 6, 'min_samples_split': 2}"
            ]
          },
          "metadata": {},
          "execution_count": 54
        }
      ],
      "source": [
        "\n",
        "grid_dtc.best_params_"
      ]
    },
    {
      "cell_type": "code",
      "source": [
        "model_dtc_tuned = DecisionTreeClassifier(criterion = 'gini',max_depth = 6, min_samples_split = 2,random_state=1)\n",
        "\n",
        "model_dtc_tuned.fit(X, y)\n",
        "predictions_dtc_tuned = model_dtc_tuned.predict(X_test)\n",
        "score_dtc_tuned = model_dtc_tuned.score(X,y)\n",
        "print(score_dtc_tuned)"
      ],
      "metadata": {
        "colab": {
          "base_uri": "https://localhost:8080/"
        },
        "id": "SjyFyGWSVGTE",
        "outputId": "609c13f9-f3cc-4cef-e286-c39104dcfd3b"
      },
      "id": "SjyFyGWSVGTE",
      "execution_count": 55,
      "outputs": [
        {
          "output_type": "stream",
          "name": "stdout",
          "text": [
            "0.8361257142857142\n"
          ]
        }
      ]
    },
    {
      "cell_type": "code",
      "source": [
        "output_2 = pd.DataFrame({'ID': df_test.ID, 'Loan/No Loan': predictions_dtc_tuned})\n",
        "output_2.to_csv('submission_loan_2.csv', index=False)"
      ],
      "metadata": {
        "id": "xgWbbBmjVbhk"
      },
      "id": "xgWbbBmjVbhk",
      "execution_count": 56,
      "outputs": []
    },
    {
      "cell_type": "code",
      "source": [
        "from sklearn.linear_model import LogisticRegression\n",
        "\n",
        "model_log= LogisticRegression(random_state=1)\n",
        "\n",
        "model_log.fit(X, y)\n",
        "predictions_log = model_log.predict(X_test)\n",
        "score_log = model_log.score(X,y)\n",
        "print(score_log)"
      ],
      "metadata": {
        "colab": {
          "base_uri": "https://localhost:8080/"
        },
        "id": "3QeJxXyGWVse",
        "outputId": "3d609b26-fb67-460b-c471-5d05909e67fd"
      },
      "id": "3QeJxXyGWVse",
      "execution_count": 58,
      "outputs": [
        {
          "output_type": "stream",
          "name": "stdout",
          "text": [
            "0.8338285714285715\n"
          ]
        }
      ]
    },
    {
      "cell_type": "code",
      "source": [
        "solvers = ['newton-cg', 'lbfgs', 'liblinear']\n",
        "penalty = ['l2']\n",
        "c_values = [100, 10, 1.0, 0.1, 0.01]\n",
        "# define grid search\n",
        "tuned_params = dict(solver=solvers,penalty=penalty,C=c_values)\n",
        "\n",
        "\n",
        "grid_log = GridSearchCV(estimator = LogisticRegression(random_state = 1),param_grid = tuned_params,cv = 5)\n",
        "\n",
        "grid_log.fit(X,y)"
      ],
      "metadata": {
        "colab": {
          "base_uri": "https://localhost:8080/"
        },
        "id": "L872qOB9WVvH",
        "outputId": "20f75329-fe9d-48bf-b8b0-f344f29edf73"
      },
      "id": "L872qOB9WVvH",
      "execution_count": 65,
      "outputs": [
        {
          "output_type": "execute_result",
          "data": {
            "text/plain": [
              "GridSearchCV(cv=5, estimator=LogisticRegression(random_state=1),\n",
              "             param_grid={'C': [100, 10, 1.0, 0.1, 0.01], 'penalty': ['l2'],\n",
              "                         'solver': ['newton-cg', 'lbfgs', 'liblinear']})"
            ]
          },
          "metadata": {},
          "execution_count": 65
        }
      ]
    },
    {
      "cell_type": "code",
      "source": [
        "grid_log.best_params_"
      ],
      "metadata": {
        "colab": {
          "base_uri": "https://localhost:8080/"
        },
        "id": "cJXjYXq6WVxE",
        "outputId": "32cd2ffe-0033-431c-d40d-8935f0f1be2f"
      },
      "id": "cJXjYXq6WVxE",
      "execution_count": 66,
      "outputs": [
        {
          "output_type": "execute_result",
          "data": {
            "text/plain": [
              "{'C': 1.0, 'penalty': 'l2', 'solver': 'newton-cg'}"
            ]
          },
          "metadata": {},
          "execution_count": 66
        }
      ]
    },
    {
      "cell_type": "code",
      "source": [
        "model_log_tuned = LogisticRegression(penalty = 'l2',C = 1.0, solver = 'newton-cg',random_state=1)\n",
        "\n",
        "model_log_tuned.fit(X, y)\n",
        "predictions_log_tuned = model_log_tuned.predict(X_test)\n",
        "score_log_tuned = model_log_tuned.score(X,y)\n",
        "print(score_log_tuned)"
      ],
      "metadata": {
        "colab": {
          "base_uri": "https://localhost:8080/"
        },
        "id": "V2XIP1vuWVzV",
        "outputId": "e8bebf22-e5ac-4137-f9b6-b633b6afe302"
      },
      "id": "V2XIP1vuWVzV",
      "execution_count": 73,
      "outputs": [
        {
          "output_type": "stream",
          "name": "stdout",
          "text": [
            "0.8344685714285714\n"
          ]
        }
      ]
    },
    {
      "cell_type": "code",
      "source": [
        "output_3 = pd.DataFrame({'ID': df_test.ID, 'Loan/No Loan': predictions_log_tuned})\n",
        "output_3.to_csv('submission_loan_3.csv', index=False)"
      ],
      "metadata": {
        "id": "hbHMCHqhafi2"
      },
      "id": "hbHMCHqhafi2",
      "execution_count": 74,
      "outputs": []
    }
  ],
  "metadata": {
    "kernelspec": {
      "display_name": "Python 3 (ipykernel)",
      "language": "python",
      "name": "python3"
    },
    "language_info": {
      "codemirror_mode": {
        "name": "ipython",
        "version": 3
      },
      "file_extension": ".py",
      "mimetype": "text/x-python",
      "name": "python",
      "nbconvert_exporter": "python",
      "pygments_lexer": "ipython3",
      "version": "3.9.7"
    },
    "colab": {
      "name": "Loan_defaulter_hackathon_final.ipynb",
      "provenance": [],
      "collapsed_sections": []
    }
  },
  "nbformat": 4,
  "nbformat_minor": 5
}